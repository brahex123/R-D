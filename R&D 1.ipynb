{
  "nbformat": 4,
  "nbformat_minor": 0,
  "metadata": {
    "colab": {
      "provenance": [],
      "gpuType": "T4"
    },
    "kernelspec": {
      "name": "python3",
      "display_name": "Python 3"
    },
    "language_info": {
      "name": "python"
    },
    "accelerator": "GPU"
  },
  "cells": [
    {
      "cell_type": "code",
      "source": [
        "import pandas as pd"
      ],
      "metadata": {
        "id": "SVSCXcaFNY4b"
      },
      "execution_count": null,
      "outputs": []
    },
    {
      "cell_type": "code",
      "execution_count": null,
      "metadata": {
        "colab": {
          "base_uri": "https://localhost:8080/"
        },
        "id": "iNtN8PdpNFOP",
        "outputId": "53f01dfa-b343-4f35-890c-40fe7d41017e"
      },
      "outputs": [
        {
          "output_type": "stream",
          "name": "stdout",
          "text": [
            "Dataset 1 Sheets: ['Feuil1', 'Feuil2', 'Feuil3']\n",
            "Preview of Dataset 1 (First Sheet):\n",
            "                                                 MSA  \\\n",
            "0   تعالت أصوات الناس بالبكاء،  بدأت أتحدث بانفعا...   \n",
            "1  فبكيت،  سكت الناس جميعا و أنا ذهلت من نفسي ، ك...   \n",
            "2  قام الجميع يسلمون علي و يتحدثون معي ، نصفه بكا...   \n",
            "3       دعينا للعشاء و كان العشاء يكفي جميع المدعوين   \n",
            "4              ﺃمضيت ﺃياما جميلة لن أنساها طوال عمري   \n",
            "\n",
            "                                                 ALG  \\\n",
            "0   عادو الناس يتباكاو بديت نهدر من قلبي تقول نهد...   \n",
            "1   بكيت الناس كامل سكتو تخلعت في روحي تقول كنت ننوم   \n",
            "2  ناضو ﭭﺎع سلمو عليا و يهدرو معايا نص بكا و نص ل...   \n",
            "3         عرضونا للعشا و كان لعشا يكفي ليزاﻧڢيتي ﭭﺎع   \n",
            "4              جوزت ايامات روعة ما ننساهاش طول حياتي   \n",
            "\n",
            "                                                 ANB  \\\n",
            "0   عادوا الناس يتباكاو بديت نهدر بغش و ڨول عليا ...   \n",
            "1   بكيت الناس كل سكتوا تشوكيت في روحي ڨول عليا نحلم   \n",
            "2  ناضوا كل سلموا عليا و يهدروا معايا نصه بكا و ن...   \n",
            "3         عرضونا للعشا و كان العشا يكفي ليزاﻧڢيتي كل   \n",
            "4          ﻋﭭﺒﺖ ايامات على الكيف ما ننساهاش طول عمري   \n",
            "\n",
            "                                                 TUN  \\\n",
            "0   البكاء و الحس كثر وليت نحكي بإنفعال كيني نهدي...   \n",
            "1      بكيت وسكتوا الناس الكل وأنا شخست كأنني في حلم   \n",
            "2  قاموا الناس الكل يسلموا عليا ويحكيوا معايا كلا...   \n",
            "3       إستدعاونا للعشاء والعشاء كان يكفي الناس الكل   \n",
            "4                  عديت أيامات حلوة مننسهاش طول عمري   \n",
            "\n",
            "                                                 PAL  \\\n",
            "0   صاروا الناس يصيحوا بصوت عالي وبديت احكي وانا ...   \n",
            "1  صرت اعيط والناس سكتوا كلهم و أنا صرت مذهول من ...   \n",
            "2  قاموا كلهم يسلموا عليا و بيحكوا معي نصه عياط و...   \n",
            "3    انعزمنا عالعشاء و كان العشاء بكفي لكل المعزومين   \n",
            "4                قضيت أيام جميلة مش حانساها طول عمري   \n",
            "\n",
            "                                                 SYR  \\\n",
            "0   علي صوت الناس بالبكي و بلّشت أحكي بعصبية و كأ...   \n",
            "1  فبكيت سكتت العالم كلا و أنا استغربت من حالي و ...   \n",
            "2  قاموا كلّون يسلّموا عليي و يحاكوني نصو بكي و ن...   \n",
            "3       انعزمنا عالعشا و كان العشا بيكفي كل المعازيم   \n",
            "4                     مضيت أيام حلوة بعمري ما بنساها   \n",
            "\n",
            "                                                 MAR  \n",
            "0  ناس بداو تيتباكاو وبديت تنهدر ب نفعل بحال إلى ...  \n",
            "1  بكيت والناس كلهم سكتو وانا جاني لعجب فراسي بحا...  \n",
            "2  ناض كلشي كيسلم عليا أو كيهدرو معايا نص بكى ونص...  \n",
            "3        تعردنا لعشا و كان لعشا كافي لكلشي المعرودين  \n",
            "4                دوزنا يامات زوينة ما عمري ما ننساها  \n",
            "\n",
            "Dataset 1 Info:\n",
            "<class 'pandas.core.frame.DataFrame'>\n",
            "RangeIndex: 6412 entries, 0 to 6411\n",
            "Data columns (total 7 columns):\n",
            " #   Column  Non-Null Count  Dtype \n",
            "---  ------  --------------  ----- \n",
            " 0   MSA     6412 non-null   object\n",
            " 1   ALG     6412 non-null   object\n",
            " 2   ANB     6412 non-null   object\n",
            " 3   TUN     6412 non-null   object\n",
            " 4   PAL     6412 non-null   object\n",
            " 5   SYR     6412 non-null   object\n",
            " 6   MAR     6412 non-null   object\n",
            "dtypes: object(7)\n",
            "memory usage: 350.8+ KB\n"
          ]
        }
      ],
      "source": [
        "file_path_1 = '/content/PADIC-31-05SansFranSansAng.xlsx'\n",
        "\n",
        "# Load the Excel file and get sheet names\n",
        "dataset_1 = pd.ExcelFile(file_path_1)\n",
        "print(\"Dataset 1 Sheets:\", dataset_1.sheet_names)\n",
        "\n",
        "# Parse and preview the first sheet (replace 0 with the desired sheet index)\n",
        "df1 = dataset_1.parse(sheet_name=0)\n",
        "print(\"Preview of Dataset 1 (First Sheet):\")\n",
        "print(df1.head())\n",
        "\n",
        "# Display basic info\n",
        "print(\"\\nDataset 1 Info:\")\n",
        "df1.info()"
      ]
    },
    {
      "cell_type": "code",
      "source": [
        "# Add sentence length columns for each language\n",
        "df1['MSA_Length'] = df1['MSA'].apply(lambda x: len(str(x).split()))\n",
        "df1['ALG_Length'] = df1['ALG'].apply(lambda x: len(str(x).split()))\n",
        "df1['ANB_Length'] = df1['ANB'].apply(lambda x: len(str(x).split()))\n",
        "df1['TUN_Length'] = df1['TUN'].apply(lambda x: len(str(x).split()))\n",
        "df1['PAL_Length'] = df1['PAL'].apply(lambda x: len(str(x).split()))\n",
        "df1['SYR_Length'] = df1['SYR'].apply(lambda x: len(str(x).split()))\n",
        "df1['MAR_Length'] = df1['MAR'].apply(lambda x: len(str(x).split()))\n",
        "\n",
        "# Verify the new columns\n",
        "print(\"Preview of Dataset with Length Columns:\")\n",
        "print(df1.head())"
      ],
      "metadata": {
        "colab": {
          "base_uri": "https://localhost:8080/"
        },
        "id": "JtcvBwweNXu7",
        "outputId": "df611eba-7e1d-48d4-89c2-d2988e91cd6a"
      },
      "execution_count": null,
      "outputs": [
        {
          "output_type": "stream",
          "name": "stdout",
          "text": [
            "Preview of Dataset with Length Columns:\n",
            "                                                 MSA  \\\n",
            "0   تعالت أصوات الناس بالبكاء،  بدأت أتحدث بانفعا...   \n",
            "1  فبكيت،  سكت الناس جميعا و أنا ذهلت من نفسي ، ك...   \n",
            "2  قام الجميع يسلمون علي و يتحدثون معي ، نصفه بكا...   \n",
            "3       دعينا للعشاء و كان العشاء يكفي جميع المدعوين   \n",
            "4              ﺃمضيت ﺃياما جميلة لن أنساها طوال عمري   \n",
            "\n",
            "                                                 ALG  \\\n",
            "0   عادو الناس يتباكاو بديت نهدر من قلبي تقول نهد...   \n",
            "1   بكيت الناس كامل سكتو تخلعت في روحي تقول كنت ننوم   \n",
            "2  ناضو ﭭﺎع سلمو عليا و يهدرو معايا نص بكا و نص ل...   \n",
            "3         عرضونا للعشا و كان لعشا يكفي ليزاﻧڢيتي ﭭﺎع   \n",
            "4              جوزت ايامات روعة ما ننساهاش طول حياتي   \n",
            "\n",
            "                                                 ANB  \\\n",
            "0   عادوا الناس يتباكاو بديت نهدر بغش و ڨول عليا ...   \n",
            "1   بكيت الناس كل سكتوا تشوكيت في روحي ڨول عليا نحلم   \n",
            "2  ناضوا كل سلموا عليا و يهدروا معايا نصه بكا و ن...   \n",
            "3         عرضونا للعشا و كان العشا يكفي ليزاﻧڢيتي كل   \n",
            "4          ﻋﭭﺒﺖ ايامات على الكيف ما ننساهاش طول عمري   \n",
            "\n",
            "                                                 TUN  \\\n",
            "0   البكاء و الحس كثر وليت نحكي بإنفعال كيني نهدي...   \n",
            "1      بكيت وسكتوا الناس الكل وأنا شخست كأنني في حلم   \n",
            "2  قاموا الناس الكل يسلموا عليا ويحكيوا معايا كلا...   \n",
            "3       إستدعاونا للعشاء والعشاء كان يكفي الناس الكل   \n",
            "4                  عديت أيامات حلوة مننسهاش طول عمري   \n",
            "\n",
            "                                                 PAL  \\\n",
            "0   صاروا الناس يصيحوا بصوت عالي وبديت احكي وانا ...   \n",
            "1  صرت اعيط والناس سكتوا كلهم و أنا صرت مذهول من ...   \n",
            "2  قاموا كلهم يسلموا عليا و بيحكوا معي نصه عياط و...   \n",
            "3    انعزمنا عالعشاء و كان العشاء بكفي لكل المعزومين   \n",
            "4                قضيت أيام جميلة مش حانساها طول عمري   \n",
            "\n",
            "                                                 SYR  \\\n",
            "0   علي صوت الناس بالبكي و بلّشت أحكي بعصبية و كأ...   \n",
            "1  فبكيت سكتت العالم كلا و أنا استغربت من حالي و ...   \n",
            "2  قاموا كلّون يسلّموا عليي و يحاكوني نصو بكي و ن...   \n",
            "3       انعزمنا عالعشا و كان العشا بيكفي كل المعازيم   \n",
            "4                     مضيت أيام حلوة بعمري ما بنساها   \n",
            "\n",
            "                                                 MAR  MSA_Length  ALG_Length  \\\n",
            "0  ناس بداو تيتباكاو وبديت تنهدر ب نفعل بحال إلى ...          12          10   \n",
            "1  بكيت والناس كلهم سكتو وانا جاني لعجب فراسي بحا...          13          10   \n",
            "2  ناض كلشي كيسلم عليا أو كيهدرو معايا نص بكى ونص...          15          14   \n",
            "3        تعردنا لعشا و كان لعشا كافي لكلشي المعرودين           8           8   \n",
            "4                دوزنا يامات زوينة ما عمري ما ننساها           7           7   \n",
            "\n",
            "   ANB_Length  TUN_Length  PAL_Length  SYR_Length  MAR_Length  \n",
            "0          12          11          13          13          11  \n",
            "1          10           9          13          12          11  \n",
            "2          14          12          14          15          12  \n",
            "3           8           7           8           8           8  \n",
            "4           8           6           7           6           7  \n"
          ]
        }
      ]
    },
    {
      "cell_type": "code",
      "source": [
        "import matplotlib.pyplot as plt\n",
        "\n",
        "# Boxplot for sentence lengths\n",
        "plt.figure(figsize=(10, 6))\n",
        "df1[['MSA_Length', 'ALG_Length', 'ANB_Length', 'TUN_Length', 'PAL_Length', 'SYR_Length', 'MAR_Length']].boxplot()\n",
        "plt.title(\"Sentence Length Distribution by Language\")\n",
        "plt.ylabel(\"Number of Tokens\")\n",
        "plt.show()"
      ],
      "metadata": {
        "colab": {
          "base_uri": "https://localhost:8080/",
          "height": 545
        },
        "id": "blB2q29XOEyJ",
        "outputId": "f85afa9e-a170-43e1-a066-d1748a0ac384"
      },
      "execution_count": null,
      "outputs": [
        {
          "output_type": "display_data",
          "data": {
            "text/plain": [
              "<Figure size 1000x600 with 1 Axes>"
            ],
            "image/png": "[encoded data removed]"
          },
          "metadata": {}
        }
      ]
    },
    {
      "cell_type": "code",
      "source": [
        "# Calculate alignment ratios (length of dialect to length of MSA)\n",
        "df1['ALG_MSA_Ratio'] = df1['ALG_Length'] / df1['MSA_Length']\n",
        "df1['ANB_MSA_Ratio'] = df1['ANB_Length'] / df1['MSA_Length']\n",
        "df1['TUN_MSA_Ratio'] = df1['TUN_Length'] / df1['MSA_Length']\n",
        "df1['PAL_MSA_Ratio'] = df1['PAL_Length'] / df1['MSA_Length']\n",
        "df1['SYR_MSA_Ratio'] = df1['SYR_Length'] / df1['MSA_Length']\n",
        "df1['MAR_MSA_Ratio'] = df1['MAR_Length'] / df1['MSA_Length']\n",
        "\n",
        "# Verify that the columns are added\n",
        "print(\"Preview of Dataset with Alignment Ratios:\")\n",
        "print(df1[['ALG_MSA_Ratio', 'ANB_MSA_Ratio', 'TUN_MSA_Ratio', 'PAL_MSA_Ratio', 'SYR_MSA_Ratio', 'MAR_MSA_Ratio']].head())"
      ],
      "metadata": {
        "colab": {
          "base_uri": "https://localhost:8080/"
        },
        "id": "x1BtFuInOTaL",
        "outputId": "ea61a342-c8aa-4c3c-a500-94df1d6a9061"
      },
      "execution_count": null,
      "outputs": [
        {
          "output_type": "stream",
          "name": "stdout",
          "text": [
            "Preview of Dataset with Alignment Ratios:\n",
            "   ALG_MSA_Ratio  ANB_MSA_Ratio  TUN_MSA_Ratio  PAL_MSA_Ratio  SYR_MSA_Ratio  \\\n",
            "0       0.833333       1.000000       0.916667       1.083333       1.083333   \n",
            "1       0.769231       0.769231       0.692308       1.000000       0.923077   \n",
            "2       0.933333       0.933333       0.800000       0.933333       1.000000   \n",
            "3       1.000000       1.000000       0.875000       1.000000       1.000000   \n",
            "4       1.000000       1.142857       0.857143       1.000000       0.857143   \n",
            "\n",
            "   MAR_MSA_Ratio  \n",
            "0       0.916667  \n",
            "1       0.846154  \n",
            "2       0.800000  \n",
            "3       1.000000  \n",
            "4       1.000000  \n"
          ]
        }
      ]
    },
    {
      "cell_type": "code",
      "source": [
        "import matplotlib.pyplot as plt\n",
        "\n",
        "# Plot alignment ratio distribution\n",
        "plt.figure(figsize=(10, 6))\n",
        "df1[['ALG_MSA_Ratio', 'ANB_MSA_Ratio', 'TUN_MSA_Ratio', 'PAL_MSA_Ratio', 'SYR_MSA_Ratio', 'MAR_MSA_Ratio']].boxplot()\n",
        "plt.title(\"Alignment Ratios Between Dialects and MSA\")\n",
        "plt.ylabel(\"Ratio\")\n",
        "plt.show()"
      ],
      "metadata": {
        "colab": {
          "base_uri": "https://localhost:8080/",
          "height": 545
        },
        "id": "6B-bOsn5OWHZ",
        "outputId": "6d44a148-335c-4f8c-8ab6-1c0cef46a967"
      },
      "execution_count": null,
      "outputs": [
        {
          "output_type": "display_data",
          "data": {
            "text/plain": [
              "<Figure size 1000x600 with 1 Axes>"
            ],
            "image/png": "[encoded data removed]"
          },
          "metadata": {}
        }
      ]
    },
    {
      "cell_type": "code",
      "source": [
        "# Prepare dataset for Dialect-to-MSA translation\n",
        "dialect_to_msa_data = []\n",
        "\n",
        "# Loop through each dialect column\n",
        "for dialect in ['ALG', 'ANB', 'TUN', 'PAL', 'SYR', 'MAR']:\n",
        "    subset = df1[[dialect, 'MSA']].rename(columns={dialect: 'Input', 'MSA': 'Target'})\n",
        "    subset['Dialect'] = dialect  # Add a column for dialect name\n",
        "    dialect_to_msa_data.append(subset)\n",
        "\n",
        "# Combine all dialect data\n",
        "dialect_to_msa_df = pd.concat(dialect_to_msa_data).reset_index(drop=True)\n",
        "\n",
        "print(\"Preview of Dialect-to-MSA Data:\")\n",
        "print(dialect_to_msa_df.head())"
      ],
      "metadata": {
        "colab": {
          "base_uri": "https://localhost:8080/"
        },
        "id": "Ossq00llOjWP",
        "outputId": "3793047d-ff8b-4da3-c049-5fe3801078d3"
      },
      "execution_count": null,
      "outputs": [
        {
          "output_type": "stream",
          "name": "stdout",
          "text": [
            "Preview of Dialect-to-MSA Data:\n",
            "                                               Input  \\\n",
            "0   عادو الناس يتباكاو بديت نهدر من قلبي تقول نهد...   \n",
            "1   بكيت الناس كامل سكتو تخلعت في روحي تقول كنت ننوم   \n",
            "2  ناضو ﭭﺎع سلمو عليا و يهدرو معايا نص بكا و نص ل...   \n",
            "3         عرضونا للعشا و كان لعشا يكفي ليزاﻧڢيتي ﭭﺎع   \n",
            "4              جوزت ايامات روعة ما ننساهاش طول حياتي   \n",
            "\n",
            "                                              Target Dialect  \n",
            "0   تعالت أصوات الناس بالبكاء،  بدأت أتحدث بانفعا...     ALG  \n",
            "1  فبكيت،  سكت الناس جميعا و أنا ذهلت من نفسي ، ك...     ALG  \n",
            "2  قام الجميع يسلمون علي و يتحدثون معي ، نصفه بكا...     ALG  \n",
            "3       دعينا للعشاء و كان العشاء يكفي جميع المدعوين     ALG  \n",
            "4              ﺃمضيت ﺃياما جميلة لن أنساها طوال عمري     ALG  \n"
          ]
        }
      ]
    },
    {
      "cell_type": "code",
      "source": [
        "# Prepare dataset for MSA-to-Dialect translation\n",
        "msa_to_dialect_data = []\n",
        "\n",
        "# Loop through each dialect column\n",
        "for dialect in ['ALG', 'ANB', 'TUN', 'PAL', 'SYR', 'MAR']:\n",
        "    subset = df1[['MSA', dialect]].rename(columns={'MSA': 'Input', dialect: 'Target'})\n",
        "    subset['Dialect'] = dialect  # Add a column for dialect name\n",
        "    msa_to_dialect_data.append(subset)\n",
        "\n",
        "# Combine all dialect data\n",
        "msa_to_dialect_df = pd.concat(msa_to_dialect_data).reset_index(drop=True)\n",
        "\n",
        "print(\"Preview of MSA-to-Dialect Data:\")\n",
        "print(msa_to_dialect_df.head())"
      ],
      "metadata": {
        "colab": {
          "base_uri": "https://localhost:8080/"
        },
        "id": "pXdErWcuPezD",
        "outputId": "d0ed836e-264f-4f90-8ad1-ecfbcfc18fb1"
      },
      "execution_count": null,
      "outputs": [
        {
          "output_type": "stream",
          "name": "stdout",
          "text": [
            "Preview of MSA-to-Dialect Data:\n",
            "                                               Input  \\\n",
            "0   تعالت أصوات الناس بالبكاء،  بدأت أتحدث بانفعا...   \n",
            "1  فبكيت،  سكت الناس جميعا و أنا ذهلت من نفسي ، ك...   \n",
            "2  قام الجميع يسلمون علي و يتحدثون معي ، نصفه بكا...   \n",
            "3       دعينا للعشاء و كان العشاء يكفي جميع المدعوين   \n",
            "4              ﺃمضيت ﺃياما جميلة لن أنساها طوال عمري   \n",
            "\n",
            "                                              Target Dialect  \n",
            "0   عادو الناس يتباكاو بديت نهدر من قلبي تقول نهد...     ALG  \n",
            "1   بكيت الناس كامل سكتو تخلعت في روحي تقول كنت ننوم     ALG  \n",
            "2  ناضو ﭭﺎع سلمو عليا و يهدرو معايا نص بكا و نص ل...     ALG  \n",
            "3         عرضونا للعشا و كان لعشا يكفي ليزاﻧڢيتي ﭭﺎع     ALG  \n",
            "4              جوزت ايامات روعة ما ننساهاش طول حياتي     ALG  \n"
          ]
        }
      ]
    },
    {
      "cell_type": "code",
      "source": [
        "# Prepare data for dialect classification\n",
        "classification_data = []\n",
        "\n",
        "# Loop through each dialect column\n",
        "for dialect in ['ALG', 'ANB', 'TUN', 'PAL', 'SYR', 'MAR']:\n",
        "    subset = df1[[dialect]].rename(columns={dialect: 'Text'})\n",
        "    subset['Dialect_Label'] = dialect  # Assign a label to each dialect\n",
        "    classification_data.append(subset)\n",
        "\n",
        "# Combine all dialect data\n",
        "classification_df = pd.concat(classification_data).reset_index(drop=True)\n",
        "\n",
        "print(\"Preview of Dialect Classification Data:\")\n",
        "print(classification_df.head())"
      ],
      "metadata": {
        "colab": {
          "base_uri": "https://localhost:8080/"
        },
        "id": "K0RfkLhvPjtw",
        "outputId": "83908e7e-7097-4601-9117-dbdb274d7a70"
      },
      "execution_count": null,
      "outputs": [
        {
          "output_type": "stream",
          "name": "stdout",
          "text": [
            "Preview of Dialect Classification Data:\n",
            "                                                Text Dialect_Label\n",
            "0   عادو الناس يتباكاو بديت نهدر من قلبي تقول نهد...           ALG\n",
            "1   بكيت الناس كامل سكتو تخلعت في روحي تقول كنت ننوم           ALG\n",
            "2  ناضو ﭭﺎع سلمو عليا و يهدرو معايا نص بكا و نص ل...           ALG\n",
            "3         عرضونا للعشا و كان لعشا يكفي ليزاﻧڢيتي ﭭﺎع           ALG\n",
            "4              جوزت ايامات روعة ما ننساهاش طول حياتي           ALG\n"
          ]
        }
      ]
    },
    {
      "cell_type": "code",
      "source": [
        "from tensorflow.keras.preprocessing.text import Tokenizer\n",
        "from tensorflow.keras.preprocessing.sequence import pad_sequences\n",
        "\n",
        "# Initialize tokenizer\n",
        "tokenizer = Tokenizer()\n",
        "\n",
        "# Fit tokenizer on all text data\n",
        "all_text = dialect_to_msa_df['Input'].tolist() + dialect_to_msa_df['Target'].tolist()\n",
        "tokenizer.fit_on_texts(all_text)\n",
        "\n",
        "# Tokenize and pad sequences\n",
        "input_sequences = tokenizer.texts_to_sequences(dialect_to_msa_df['Input'])\n",
        "target_sequences = tokenizer.texts_to_sequences(dialect_to_msa_df['Target'])\n",
        "\n",
        "input_padded = pad_sequences(input_sequences, padding='post')\n",
        "target_padded = pad_sequences(target_sequences, padding='post')\n",
        "\n",
        "# Verify tokenized and padded data\n",
        "print(\"Example Input Padded Sequence:\", input_padded[0])\n",
        "print(\"Example Target Padded Sequence:\", target_padded[0])"
      ],
      "metadata": {
        "colab": {
          "base_uri": "https://localhost:8080/"
        },
        "id": "uvj7qqvPPmT9",
        "outputId": "bd0c272f-fa8f-4087-b7b6-083460a228c7"
      },
      "execution_count": null,
      "outputs": [
        {
          "output_type": "stream",
          "name": "stdout",
          "text": [
            "Example Input Padded Sequence: [14149   125 17520   913  1407     5  1636    78 15455 22768     0     0\n",
            "     0     0     0     0     0     0     0     0     0     0     0     0\n",
            "     0     0     0     0     0     0     0     0     0     0     0     0\n",
            "     0     0     0     0     0     0     0     0     0     0     0     0\n",
            "     0     0     0     0     0     0     0]\n",
            "Example Target Padded Sequence: [10074 10075   125 10076   499  1832 10077     1  3414 10078     2   125\n",
            "     0     0     0     0     0     0     0     0     0     0     0     0\n",
            "     0     0     0     0     0     0     0     0     0     0     0     0\n",
            "     0     0     0     0     0     0     0     0     0     0     0     0\n",
            "     0     0     0     0]\n"
          ]
        }
      ]
    },
    {
      "cell_type": "code",
      "source": [
        "from sklearn.model_selection import train_test_split\n",
        "\n",
        "# Split data into training (80%) and temp set (20%)\n",
        "X_temp, X_test, y_temp, y_test = train_test_split(\n",
        "    input_padded, target_padded, test_size=0.2, random_state=42\n",
        ")\n",
        "\n",
        "# Further split the temp set into validation (50%) and test (50%)\n",
        "X_train, X_val, y_train, y_val = train_test_split(\n",
        "    X_temp, y_temp, test_size=0.5, random_state=42\n",
        ")\n",
        "\n",
        "# Verify the split\n",
        "print(f\"Training samples: {len(X_train)}, Validation samples: {len(X_val)}, Test samples: {len(X_test)}\")"
      ],
      "metadata": {
        "colab": {
          "base_uri": "https://localhost:8080/"
        },
        "id": "GKiIj_fvQDPh",
        "outputId": "56277943-dd4b-4098-ce22-f5f08675355f"
      },
      "execution_count": null,
      "outputs": [
        {
          "output_type": "stream",
          "name": "stdout",
          "text": [
            "Training samples: 15388, Validation samples: 15389, Test samples: 7695\n"
          ]
        }
      ]
    },
    {
      "cell_type": "code",
      "source": [
        "# Prepare data for Dialect-to-MSA translation\n",
        "X_train_baseline = X_train  # Training input (dialects)\n",
        "y_train_baseline = y_train  # Training target (MSA)\n",
        "\n",
        "# Validation data\n",
        "X_val_baseline = X_val\n",
        "y_val_baseline = y_val\n",
        "\n",
        "# Test data\n",
        "X_test_baseline = X_test\n",
        "y_test_baseline = y_test\n",
        "\n",
        "# Verify the prepared data\n",
        "print(f\"Baseline Training Input: {X_train_baseline.shape}, Baseline Training Target: {y_train_baseline.shape}\")\n",
        "print(f\"Baseline Validation Input: {X_val_baseline.shape}, Baseline Validation Target: {y_val_baseline.shape}\")\n",
        "print(f\"Baseline Test Input: {X_test_baseline.shape}, Baseline Test Target: {y_test_baseline.shape}\")"
      ],
      "metadata": {
        "colab": {
          "base_uri": "https://localhost:8080/"
        },
        "id": "9A2o0-CuQJ3M",
        "outputId": "81188088-86ba-4eb2-9457-a6ef12482744"
      },
      "execution_count": null,
      "outputs": [
        {
          "output_type": "stream",
          "name": "stdout",
          "text": [
            "Baseline Training Input: (15388, 55), Baseline Training Target: (15388, 52)\n",
            "Baseline Validation Input: (15389, 55), Baseline Validation Target: (15389, 52)\n",
            "Baseline Test Input: (7695, 55), Baseline Test Target: (7695, 52)\n"
          ]
        }
      ]
    },
    {
      "cell_type": "code",
      "source": [
        "from tensorflow.keras import layers, Model\n",
        "\n",
        "# Baseline encoder-decoder model\n",
        "vocab_size = len(tokenizer.word_index) + 1\n",
        "embedding_dim = 256\n",
        "hidden_dim = 512\n",
        "\n",
        "# Encoder\n",
        "encoder_input = layers.Input(shape=(None,), name=\"encoder_input\")\n",
        "encoder_embedding = layers.Embedding(vocab_size, embedding_dim)(encoder_input)\n",
        "encoder_lstm = layers.LSTM(hidden_dim, return_state=True, name=\"encoder_lstm\")\n",
        "encoder_output, state_h, state_c = encoder_lstm(encoder_embedding)\n",
        "encoder_states = [state_h, state_c]\n",
        "\n",
        "# Decoder\n",
        "decoder_input = layers.Input(shape=(None,), name=\"decoder_input\")\n",
        "decoder_embedding = layers.Embedding(vocab_size, embedding_dim)(decoder_input)\n",
        "decoder_lstm = layers.LSTM(hidden_dim, return_sequences=True, name=\"decoder_lstm\")\n",
        "decoder_output = decoder_lstm(decoder_embedding, initial_state=encoder_states)\n",
        "decoder_dense = layers.Dense(vocab_size, activation=\"softmax\", name=\"decoder_dense\")\n",
        "decoder_output = decoder_dense(decoder_output)\n",
        "\n",
        "# Compile model\n",
        "baseline_model = Model([encoder_input, decoder_input], decoder_output)\n",
        "baseline_model.compile(optimizer=\"adam\", loss=\"sparse_categorical_crossentropy\", metrics=[\"accuracy\"])\n",
        "\n",
        "baseline_model.summary()"
      ],
      "metadata": {
        "colab": {
          "base_uri": "https://localhost:8080/",
          "height": 433
        },
        "id": "er0TwCkFQZfe",
        "outputId": "9609951d-b2a0-45ec-d96b-536075afeb1f"
      },
      "execution_count": null,
      "outputs": [
        {
          "output_type": "display_data",
          "data": {
            "text/plain": [
              "\u001b[1mModel: \"functional\"\u001b[0m\n"
            ],
            "text/html": [
              "<pre style=\"white-space:pre;overflow-x:auto;line-height:normal;font-family:Menlo,'DejaVu Sans Mono',consolas,'Courier New',monospace\"><span style=\"font-weight: bold\">Model: \"functional\"</span>\n",
              "</pre>\n"
            ]
          },
          "metadata": {}
        },
        {
          "output_type": "display_data",
          "data": {
            "text/plain": [
              "┏━━━━━━━━━━━━━━━━━━━━━━━━━━━┳━━━━━━━━━━━━━━━━━━━━━━━━┳━━━━━━━━━━━━━━━━┳━━━━━━━━━━━━━━━━━━━━━━━━┓\n",
              "┃\u001b[1m \u001b[0m\u001b[1mLayer (type)             \u001b[0m\u001b[1m \u001b[0m┃\u001b[1m \u001b[0m\u001b[1mOutput Shape          \u001b[0m\u001b[1m \u001b[0m┃\u001b[1m \u001b[0m\u001b[1m       Param #\u001b[0m\u001b[1m \u001b[0m┃\u001b[1m \u001b[0m\u001b[1mConnected to          \u001b[0m\u001b[1m \u001b[0m┃\n",
              "┡━━━━━━━━━━━━━━━━━━━━━━━━━━━╇━━━━━━━━━━━━━━━━━━━━━━━━╇━━━━━━━━━━━━━━━━╇━━━━━━━━━━━━━━━━━━━━━━━━┩\n",
              "│ encoder_input             │ (\u001b[38;5;45mNone\u001b[0m, \u001b[38;5;45mNone\u001b[0m)           │              \u001b[38;5;34m0\u001b[0m │ -                      │\n",
              "│ (\u001b[38;5;33mInputLayer\u001b[0m)              │                        │                │                        │\n",
              "├───────────────────────────┼────────────────────────┼────────────────┼────────────────────────┤\n",
              "│ decoder_input             │ (\u001b[38;5;45mNone\u001b[0m, \u001b[38;5;45mNone\u001b[0m)           │              \u001b[38;5;34m0\u001b[0m │ -                      │\n",
              "│ (\u001b[38;5;33mInputLayer\u001b[0m)              │                        │                │                        │\n",
              "├───────────────────────────┼────────────────────────┼────────────────┼────────────────────────┤\n",
              "│ embedding (\u001b[38;5;33mEmbedding\u001b[0m)     │ (\u001b[38;5;45mNone\u001b[0m, \u001b[38;5;45mNone\u001b[0m, \u001b[38;5;34m256\u001b[0m)      │      \u001b[38;5;34m9,754,880\u001b[0m │ encoder_input[\u001b[38;5;34m0\u001b[0m][\u001b[38;5;34m0\u001b[0m]    │\n",
              "├───────────────────────────┼────────────────────────┼────────────────┼────────────────────────┤\n",
              "│ embedding_1 (\u001b[38;5;33mEmbedding\u001b[0m)   │ (\u001b[38;5;45mNone\u001b[0m, \u001b[38;5;45mNone\u001b[0m, \u001b[38;5;34m256\u001b[0m)      │      \u001b[38;5;34m9,754,880\u001b[0m │ decoder_input[\u001b[38;5;34m0\u001b[0m][\u001b[38;5;34m0\u001b[0m]    │\n",
              "├───────────────────────────┼────────────────────────┼────────────────┼────────────────────────┤\n",
              "│ encoder_lstm (\u001b[38;5;33mLSTM\u001b[0m)       │ [(\u001b[38;5;45mNone\u001b[0m, \u001b[38;5;34m512\u001b[0m), (\u001b[38;5;45mNone\u001b[0m,   │      \u001b[38;5;34m1,574,912\u001b[0m │ embedding[\u001b[38;5;34m0\u001b[0m][\u001b[38;5;34m0\u001b[0m]        │\n",
              "│                           │ \u001b[38;5;34m512\u001b[0m), (\u001b[38;5;45mNone\u001b[0m, \u001b[38;5;34m512\u001b[0m)]     │                │                        │\n",
              "├───────────────────────────┼────────────────────────┼────────────────┼────────────────────────┤\n",
              "│ decoder_lstm (\u001b[38;5;33mLSTM\u001b[0m)       │ (\u001b[38;5;45mNone\u001b[0m, \u001b[38;5;45mNone\u001b[0m, \u001b[38;5;34m512\u001b[0m)      │      \u001b[38;5;34m1,574,912\u001b[0m │ embedding_1[\u001b[38;5;34m0\u001b[0m][\u001b[38;5;34m0\u001b[0m],     │\n",
              "│                           │                        │                │ encoder_lstm[\u001b[38;5;34m0\u001b[0m][\u001b[38;5;34m1\u001b[0m],    │\n",
              "│                           │                        │                │ encoder_lstm[\u001b[38;5;34m0\u001b[0m][\u001b[38;5;34m2\u001b[0m]     │\n",
              "├───────────────────────────┼────────────────────────┼────────────────┼────────────────────────┤\n",
              "│ decoder_dense (\u001b[38;5;33mDense\u001b[0m)     │ (\u001b[38;5;45mNone\u001b[0m, \u001b[38;5;45mNone\u001b[0m, \u001b[38;5;34m38105\u001b[0m)    │     \u001b[38;5;34m19,547,865\u001b[0m │ decoder_lstm[\u001b[38;5;34m0\u001b[0m][\u001b[38;5;34m0\u001b[0m]     │\n",
              "└───────────────────────────┴────────────────────────┴────────────────┴────────────────────────┘\n"
            ],
            "text/html": [
              "<pre style=\"white-space:pre;overflow-x:auto;line-height:normal;font-family:Menlo,'DejaVu Sans Mono',consolas,'Courier New',monospace\">┏━━━━━━━━━━━━━━━━━━━━━━━━━━━┳━━━━━━━━━━━━━━━━━━━━━━━━┳━━━━━━━━━━━━━━━━┳━━━━━━━━━━━━━━━━━━━━━━━━┓\n",
              "┃<span style=\"font-weight: bold\"> Layer (type)              </span>┃<span style=\"font-weight: bold\"> Output Shape           </span>┃<span style=\"font-weight: bold\">        Param # </span>┃<span style=\"font-weight: bold\"> Connected to           </span>┃\n",
              "┡━━━━━━━━━━━━━━━━━━━━━━━━━━━╇━━━━━━━━━━━━━━━━━━━━━━━━╇━━━━━━━━━━━━━━━━╇━━━━━━━━━━━━━━━━━━━━━━━━┩\n",
              "│ encoder_input             │ (<span style=\"color: #00d7ff; text-decoration-color: #00d7ff\">None</span>, <span style=\"color: #00d7ff; text-decoration-color: #00d7ff\">None</span>)           │              <span style=\"color: #00af00; text-decoration-color: #00af00\">0</span> │ -                      │\n",
              "│ (<span style=\"color: #0087ff; text-decoration-color: #0087ff\">InputLayer</span>)              │                        │                │                        │\n",
              "├───────────────────────────┼────────────────────────┼────────────────┼────────────────────────┤\n",
              "│ decoder_input             │ (<span style=\"color: #00d7ff; text-decoration-color: #00d7ff\">None</span>, <span style=\"color: #00d7ff; text-decoration-color: #00d7ff\">None</span>)           │              <span style=\"color: #00af00; text-decoration-color: #00af00\">0</span> │ -                      │\n",
              "│ (<span style=\"color: #0087ff; text-decoration-color: #0087ff\">InputLayer</span>)              │                        │                │                        │\n",
              "├───────────────────────────┼────────────────────────┼────────────────┼────────────────────────┤\n",
              "│ embedding (<span style=\"color: #0087ff; text-decoration-color: #0087ff\">Embedding</span>)     │ (<span style=\"color: #00d7ff; text-decoration-color: #00d7ff\">None</span>, <span style=\"color: #00d7ff; text-decoration-color: #00d7ff\">None</span>, <span style=\"color: #00af00; text-decoration-color: #00af00\">256</span>)      │      <span style=\"color: #00af00; text-decoration-color: #00af00\">9,754,880</span> │ encoder_input[<span style=\"color: #00af00; text-decoration-color: #00af00\">0</span>][<span style=\"color: #00af00; text-decoration-color: #00af00\">0</span>]    │\n",
              "├───────────────────────────┼────────────────────────┼────────────────┼────────────────────────┤\n",
              "│ embedding_1 (<span style=\"color: #0087ff; text-decoration-color: #0087ff\">Embedding</span>)   │ (<span style=\"color: #00d7ff; text-decoration-color: #00d7ff\">None</span>, <span style=\"color: #00d7ff; text-decoration-color: #00d7ff\">None</span>, <span style=\"color: #00af00; text-decoration-color: #00af00\">256</span>)      │      <span style=\"color: #00af00; text-decoration-color: #00af00\">9,754,880</span> │ decoder_input[<span style=\"color: #00af00; text-decoration-color: #00af00\">0</span>][<span style=\"color: #00af00; text-decoration-color: #00af00\">0</span>]    │\n",
              "├───────────────────────────┼────────────────────────┼────────────────┼────────────────────────┤\n",
              "│ encoder_lstm (<span style=\"color: #0087ff; text-decoration-color: #0087ff\">LSTM</span>)       │ [(<span style=\"color: #00d7ff; text-decoration-color: #00d7ff\">None</span>, <span style=\"color: #00af00; text-decoration-color: #00af00\">512</span>), (<span style=\"color: #00d7ff; text-decoration-color: #00d7ff\">None</span>,   │      <span style=\"color: #00af00; text-decoration-color: #00af00\">1,574,912</span> │ embedding[<span style=\"color: #00af00; text-decoration-color: #00af00\">0</span>][<span style=\"color: #00af00; text-decoration-color: #00af00\">0</span>]        │\n",
              "│                           │ <span style=\"color: #00af00; text-decoration-color: #00af00\">512</span>), (<span style=\"color: #00d7ff; text-decoration-color: #00d7ff\">None</span>, <span style=\"color: #00af00; text-decoration-color: #00af00\">512</span>)]     │                │                        │\n",
              "├───────────────────────────┼────────────────────────┼────────────────┼────────────────────────┤\n",
              "│ decoder_lstm (<span style=\"color: #0087ff; text-decoration-color: #0087ff\">LSTM</span>)       │ (<span style=\"color: #00d7ff; text-decoration-color: #00d7ff\">None</span>, <span style=\"color: #00d7ff; text-decoration-color: #00d7ff\">None</span>, <span style=\"color: #00af00; text-decoration-color: #00af00\">512</span>)      │      <span style=\"color: #00af00; text-decoration-color: #00af00\">1,574,912</span> │ embedding_1[<span style=\"color: #00af00; text-decoration-color: #00af00\">0</span>][<span style=\"color: #00af00; text-decoration-color: #00af00\">0</span>],     │\n",
              "│                           │                        │                │ encoder_lstm[<span style=\"color: #00af00; text-decoration-color: #00af00\">0</span>][<span style=\"color: #00af00; text-decoration-color: #00af00\">1</span>],    │\n",
              "│                           │                        │                │ encoder_lstm[<span style=\"color: #00af00; text-decoration-color: #00af00\">0</span>][<span style=\"color: #00af00; text-decoration-color: #00af00\">2</span>]     │\n",
              "├───────────────────────────┼────────────────────────┼────────────────┼────────────────────────┤\n",
              "│ decoder_dense (<span style=\"color: #0087ff; text-decoration-color: #0087ff\">Dense</span>)     │ (<span style=\"color: #00d7ff; text-decoration-color: #00d7ff\">None</span>, <span style=\"color: #00d7ff; text-decoration-color: #00d7ff\">None</span>, <span style=\"color: #00af00; text-decoration-color: #00af00\">38105</span>)    │     <span style=\"color: #00af00; text-decoration-color: #00af00\">19,547,865</span> │ decoder_lstm[<span style=\"color: #00af00; text-decoration-color: #00af00\">0</span>][<span style=\"color: #00af00; text-decoration-color: #00af00\">0</span>]     │\n",
              "└───────────────────────────┴────────────────────────┴────────────────┴────────────────────────┘\n",
              "</pre>\n"
            ]
          },
          "metadata": {}
        },
        {
          "output_type": "display_data",
          "data": {
            "text/plain": [
              "\u001b[1m Total params: \u001b[0m\u001b[38;5;34m42,207,449\u001b[0m (161.01 MB)\n"
            ],
            "text/html": [
              "<pre style=\"white-space:pre;overflow-x:auto;line-height:normal;font-family:Menlo,'DejaVu Sans Mono',consolas,'Courier New',monospace\"><span style=\"font-weight: bold\"> Total params: </span><span style=\"color: #00af00; text-decoration-color: #00af00\">42,207,449</span> (161.01 MB)\n",
              "</pre>\n"
            ]
          },
          "metadata": {}
        },
        {
          "output_type": "display_data",
          "data": {
            "text/plain": [
              "\u001b[1m Trainable params: \u001b[0m\u001b[38;5;34m42,207,449\u001b[0m (161.01 MB)\n"
            ],
            "text/html": [
              "<pre style=\"white-space:pre;overflow-x:auto;line-height:normal;font-family:Menlo,'DejaVu Sans Mono',consolas,'Courier New',monospace\"><span style=\"font-weight: bold\"> Trainable params: </span><span style=\"color: #00af00; text-decoration-color: #00af00\">42,207,449</span> (161.01 MB)\n",
              "</pre>\n"
            ]
          },
          "metadata": {}
        },
        {
          "output_type": "display_data",
          "data": {
            "text/plain": [
              "\u001b[1m Non-trainable params: \u001b[0m\u001b[38;5;34m0\u001b[0m (0.00 B)\n"
            ],
            "text/html": [
              "<pre style=\"white-space:pre;overflow-x:auto;line-height:normal;font-family:Menlo,'DejaVu Sans Mono',consolas,'Courier New',monospace\"><span style=\"font-weight: bold\"> Non-trainable params: </span><span style=\"color: #00af00; text-decoration-color: #00af00\">0</span> (0.00 B)\n",
              "</pre>\n"
            ]
          },
          "metadata": {}
        }
      ]
    },
    {
      "cell_type": "code",
      "source": [
        "import numpy as np"
      ],
      "metadata": {
        "id": "I5iLdsthQkof"
      },
      "execution_count": null,
      "outputs": []
    },
    {
      "cell_type": "code",
      "source": [
        "import tensorflow as tf\n",
        "print(\"Num GPUs Available: \", len(tf.config.list_physical_devices('GPU')))"
      ],
      "metadata": {
        "colab": {
          "base_uri": "https://localhost:8080/"
        },
        "id": "vAafOSZBRcFP",
        "outputId": "945cf438-e743-4872-9797-c8e38346dccf"
      },
      "execution_count": null,
      "outputs": [
        {
          "output_type": "stream",
          "name": "stdout",
          "text": [
            "Num GPUs Available:  1\n"
          ]
        }
      ]
    },
    {
      "cell_type": "code",
      "source": [
        "# Prepare decoder input and target sequences (shifted)\n",
        "decoder_input_seq = np.concatenate([np.zeros((y_train_baseline.shape[0], 1)), y_train_baseline[:, :-1]], axis=1)\n",
        "\n",
        "# Ensure GPU is being used (no additional changes needed in TensorFlow, it automatically uses GPU)\n",
        "with tf.device('/GPU:0'):  # This explicitly sets the device to GPU\n",
        "    history_baseline = baseline_model.fit(\n",
        "        [X_train_baseline, decoder_input_seq],\n",
        "        y_train_baseline,\n",
        "        batch_size=16,  # Adjust batch size based on GPU memory\n",
        "        epochs=5,\n",
        "        validation_data=([X_val_baseline, np.concatenate([np.zeros((y_val_baseline.shape[0], 1)), y_val_baseline[:, :-1]], axis=1)], y_val_baseline)\n",
        "    )"
      ],
      "metadata": {
        "colab": {
          "base_uri": "https://localhost:8080/"
        },
        "id": "LuhumVHwQb-1",
        "outputId": "d5e23441-2d05-46e4-aa75-b0c9d6a230ec"
      },
      "execution_count": null,
      "outputs": [
        {
          "output_type": "stream",
          "name": "stdout",
          "text": [
            "Epoch 1/5\n",
            "\u001b[1m962/962\u001b[0m \u001b[32m━━━━━━━━━━━━━━━━━━━━\u001b[0m\u001b[37m\u001b[0m \u001b[1m159s\u001b[0m 165ms/step - accuracy: 0.8662 - loss: 1.5608 - val_accuracy: 0.8698 - val_loss: 0.9877\n",
            "Epoch 2/5\n",
            "\u001b[1m962/962\u001b[0m \u001b[32m━━━━━━━━━━━━━━━━━━━━\u001b[0m\u001b[37m\u001b[0m \u001b[1m205s\u001b[0m 168ms/step - accuracy: 0.8701 - loss: 0.9477 - val_accuracy: 0.8758 - val_loss: 0.8835\n",
            "Epoch 3/5\n",
            "\u001b[1m962/962\u001b[0m \u001b[32m━━━━━━━━━━━━━━━━━━━━\u001b[0m\u001b[37m\u001b[0m \u001b[1m203s\u001b[0m 169ms/step - accuracy: 0.8787 - loss: 0.8059 - val_accuracy: 0.8832 - val_loss: 0.7580\n",
            "Epoch 4/5\n",
            "\u001b[1m962/962\u001b[0m \u001b[32m━━━━━━━━━━━━━━━━━━━━\u001b[0m\u001b[37m\u001b[0m \u001b[1m202s\u001b[0m 169ms/step - accuracy: 0.8901 - loss: 0.6514 - val_accuracy: 0.8956 - val_loss: 0.6426\n",
            "Epoch 5/5\n",
            "\u001b[1m962/962\u001b[0m \u001b[32m━━━━━━━━━━━━━━━━━━━━\u001b[0m\u001b[37m\u001b[0m \u001b[1m204s\u001b[0m 171ms/step - accuracy: 0.9108 - loss: 0.5010 - val_accuracy: 0.9099 - val_loss: 0.5381\n"
          ]
        }
      ]
    },
    {
      "cell_type": "code",
      "source": [
        "# Training data for MTL model\n",
        "X_train_mtl = X_train\n",
        "y_train_dialect_to_msa = y_train  # Dialect-to-MSA target\n",
        "y_train_msa_to_dialect = y_train  # MSA-to-Dialect target (mirrored)\n",
        "y_train_classifier = classification_df['Dialect_Label'].iloc[:len(X_train)].values  # Classifier labels as array\n",
        "\n",
        "# Validation data for MTL model\n",
        "X_val_mtl = X_val\n",
        "y_val_dialect_to_msa = y_val\n",
        "y_val_msa_to_dialect = y_val\n",
        "y_val_classifier = classification_df['Dialect_Label'].iloc[len(X_train):len(X_train) + len(X_val)].values\n",
        "\n",
        "# Test data for MTL model\n",
        "X_test_mtl = X_test\n",
        "y_test_dialect_to_msa = y_test\n",
        "y_test_msa_to_dialect = y_test\n",
        "y_test_classifier = classification_df['Dialect_Label'].iloc[len(X_train) + len(X_val):].values\n",
        "\n",
        "# Verify splits for MTL\n",
        "print(f\"MTL Training Input: {X_train_mtl.shape}\")\n",
        "print(f\"MTL Validation Input: {X_val_mtl.shape}\")\n",
        "print(f\"MTL Test Input: {X_test_mtl.shape}\")\n",
        "print(f\"MTL Training Target (Dialect-to-MSA): {y_train_dialect_to_msa.shape}\")\n",
        "print(f\"MTL Validation Target (Dialect-to-MSA): {y_val_dialect_to_msa.shape}\")\n",
        "print(f\"MTL Test Target (Dialect-to-MSA): {y_test_dialect_to_msa.shape}\")\n",
        "print(f\"MTL Classifier Training Target Shape: {y_train_classifier.shape}\")"
      ],
      "metadata": {
        "colab": {
          "base_uri": "https://localhost:8080/"
        },
        "id": "WSshgVPRVhLA",
        "outputId": "38fc2c35-e0c8-469b-9e33-07421e051f79"
      },
      "execution_count": null,
      "outputs": [
        {
          "output_type": "stream",
          "name": "stdout",
          "text": [
            "MTL Training Input: (15388, 55)\n",
            "MTL Validation Input: (15389, 55)\n",
            "MTL Test Input: (7695, 55)\n",
            "MTL Training Target (Dialect-to-MSA): (15388, 52)\n",
            "MTL Validation Target (Dialect-to-MSA): (15389, 52)\n",
            "MTL Test Target (Dialect-to-MSA): (7695, 52)\n",
            "MTL Classifier Training Target Shape: (15388,)\n"
          ]
        }
      ]
    },
    {
      "cell_type": "code",
      "source": [
        "# Combined Inputs and Outputs for MTL Model\n",
        "\n",
        "# Training Data\n",
        "multitask_train_inputs = {\n",
        "    \"encoder_input\": X_train_mtl,  # Shared encoder input\n",
        "    \"decoder_dialect_to_msa_input\": np.concatenate(\n",
        "        [np.zeros((y_train_dialect_to_msa.shape[0], 1)), y_train_dialect_to_msa[:, :-1]], axis=1\n",
        "    ),\n",
        "}\n",
        "\n",
        "multitask_train_outputs = {\n",
        "    \"dialect_to_msa_output\": y_train_dialect_to_msa,  # Dialect-to-MSA output\n",
        "    \"msa_to_dialect_output\": y_train_msa_to_dialect,  # MSA-to-Dialect output\n",
        "    \"dialect_classifier_output\": y_train_classifier,  # Classification output\n",
        "}\n",
        "\n",
        "# Validation Data\n",
        "multitask_val_inputs = {\n",
        "    \"encoder_input\": X_val_mtl,  # Shared encoder input\n",
        "    \"decoder_dialect_to_msa_input\": np.concatenate(\n",
        "        [np.zeros((y_val_dialect_to_msa.shape[0], 1)), y_val_dialect_to_msa[:, :-1]], axis=1\n",
        "    ),\n",
        "}\n",
        "\n",
        "multitask_val_outputs = {\n",
        "    \"dialect_to_msa_output\": y_val_dialect_to_msa,  # Dialect-to-MSA output\n",
        "    \"msa_to_dialect_output\": y_val_msa_to_dialect,  # MSA-to-Dialect output\n",
        "    \"dialect_classifier_output\": y_val_classifier,  # Classification output\n",
        "}\n",
        "\n",
        "# Test Data\n",
        "multitask_test_inputs = {\n",
        "    \"encoder_input\": X_test_mtl,  # Shared encoder input\n",
        "    \"decoder_dialect_to_msa_input\": np.concatenate(\n",
        "        [np.zeros((y_test_dialect_to_msa.shape[0], 1)), y_test_dialect_to_msa[:, :-1]], axis=1\n",
        "    ),\n",
        "}\n",
        "\n",
        "multitask_test_outputs = {\n",
        "    \"dialect_to_msa_output\": y_test_dialect_to_msa,  # Dialect-to-MSA output\n",
        "    \"msa_to_dialect_output\": y_test_msa_to_dialect,  # MSA-to-Dialect output\n",
        "    \"dialect_classifier_output\": y_test_classifier,  # Classification output\n",
        "}\n"
      ],
      "metadata": {
        "id": "Efn2vdccVj9D"
      },
      "execution_count": null,
      "outputs": []
    },
    {
      "cell_type": "code",
      "source": [
        "print(f\"Training Input Shape: {multitask_train_inputs['encoder_input'].shape}\")\n",
        "print(f\"Validation Input Shape: {multitask_val_inputs['encoder_input'].shape}\")\n",
        "print(f\"Test Input Shape: {multitask_test_inputs['encoder_input'].shape}\")\n",
        "print(f\"Training Output Shape (Dialect-to-MSA): {multitask_train_outputs['dialect_to_msa_output'].shape}\")\n",
        "print(f\"Validation Output Shape (Dialect-to-MSA): {multitask_val_outputs['dialect_to_msa_output'].shape}\")\n",
        "print(f\"Test Output Shape (Dialect-to-MSA): {multitask_test_outputs['dialect_to_msa_output'].shape}\")\n"
      ],
      "metadata": {
        "colab": {
          "base_uri": "https://localhost:8080/"
        },
        "id": "1_4S1J_odk2L",
        "outputId": "052dabcb-25e2-493e-c9b9-136e1cb0a77c"
      },
      "execution_count": null,
      "outputs": [
        {
          "output_type": "stream",
          "name": "stdout",
          "text": [
            "Training Input Shape: (15388, 55)\n",
            "Validation Input Shape: (15389, 55)\n",
            "Test Input Shape: (7695, 55)\n",
            "Training Output Shape (Dialect-to-MSA): (15388, 52)\n",
            "Validation Output Shape (Dialect-to-MSA): (15389, 52)\n",
            "Test Output Shape (Dialect-to-MSA): (7695, 52)\n"
          ]
        }
      ]
    },
    {
      "cell_type": "code",
      "source": [
        "# Shared Encoder\n",
        "shared_encoder_embedding = layers.Embedding(vocab_size, embedding_dim)(encoder_input)\n",
        "shared_encoder_output, state_h, state_c = encoder_lstm(shared_encoder_embedding)\n",
        "shared_encoder_states = [state_h, state_c]\n",
        "\n",
        "# Dialect-to-MSA Decoder\n",
        "dialect_to_msa_decoder_output = decoder_lstm(decoder_embedding, initial_state=shared_encoder_states)\n",
        "dialect_to_msa_decoder_output = layers.Dense(vocab_size, activation=\"softmax\", name=\"dialect_to_msa_output\")(dialect_to_msa_decoder_output)\n",
        "\n",
        "# MSA-to-Dialect Decoder\n",
        "msa_to_dialect_decoder_output = decoder_lstm(decoder_embedding, initial_state=shared_encoder_states)\n",
        "msa_to_dialect_decoder_output = layers.Dense(vocab_size, activation=\"softmax\", name=\"msa_to_dialect_output\")(msa_to_dialect_decoder_output)\n",
        "\n",
        "# Dialect Classification\n",
        "classification_output = layers.Dense(6, activation=\"softmax\", name=\"dialect_classifier_output\")(shared_encoder_output)\n",
        "\n",
        "# MTL Model\n",
        "mtl_model = Model(\n",
        "    inputs=[encoder_input, decoder_input],\n",
        "    outputs=[\n",
        "        dialect_to_msa_decoder_output,  # Dialect-to-MSA\n",
        "        msa_to_dialect_decoder_output,  # MSA-to-Dialect\n",
        "        classification_output           # Classification\n",
        "    ]\n",
        ")"
      ],
      "metadata": {
        "id": "vhhImjJSQgnW"
      },
      "execution_count": null,
      "outputs": []
    },
    {
      "cell_type": "code",
      "source": [
        "# Compile the MTL model with metrics for each output\n",
        "mtl_model.compile(\n",
        "    optimizer=\"adam\",\n",
        "    loss={\n",
        "        \"dialect_to_msa_output\": \"sparse_categorical_crossentropy\",  # Dialect-to-MSA loss\n",
        "        \"msa_to_dialect_output\": \"sparse_categorical_crossentropy\",  # MSA-to-Dialect loss\n",
        "        \"dialect_classifier_output\": \"sparse_categorical_crossentropy\",  # Classification loss\n",
        "    },\n",
        "    loss_weights={\n",
        "        \"dialect_to_msa_output\": 1.0,  # Primary task weight\n",
        "        \"msa_to_dialect_output\": 0.8,  # Secondary task weight\n",
        "        \"dialect_classifier_output\": 0.5,  # Auxiliary task weight\n",
        "    },\n",
        "    metrics={\n",
        "        \"dialect_to_msa_output\": [\"accuracy\"],  # Metrics for Dialect-to-MSA\n",
        "        \"msa_to_dialect_output\": [\"accuracy\"],  # Metrics for MSA-to-Dialect\n",
        "        \"dialect_classifier_output\": [\"accuracy\"],  # Metrics for Classification\n",
        "    }\n",
        ")"
      ],
      "metadata": {
        "id": "TcRtQFqdcRs4"
      },
      "execution_count": null,
      "outputs": []
    },
    {
      "cell_type": "code",
      "source": [
        "mtl_model.summary()"
      ],
      "metadata": {
        "colab": {
          "base_uri": "https://localhost:8080/",
          "height": 593
        },
        "id": "LIEEIj6wcTlS",
        "outputId": "5fa2a3cd-78af-496e-987d-27d9bc53d293"
      },
      "execution_count": null,
      "outputs": [
        {
          "output_type": "display_data",
          "data": {
            "text/plain": [
              "\u001b[1mModel: \"functional_1\"\u001b[0m\n"
            ],
            "text/html": [
              "<pre style=\"white-space:pre;overflow-x:auto;line-height:normal;font-family:Menlo,'DejaVu Sans Mono',consolas,'Courier New',monospace\"><span style=\"font-weight: bold\">Model: \"functional_1\"</span>\n",
              "</pre>\n"
            ]
          },
          "metadata": {}
        },
        {
          "output_type": "display_data",
          "data": {
            "text/plain": [
              "┏━━━━━━━━━━━━━━━━━━━━━━━━━━━┳━━━━━━━━━━━━━━━━━━━━━━━━┳━━━━━━━━━━━━━━━━┳━━━━━━━━━━━━━━━━━━━━━━━━┓\n",
              "┃\u001b[1m \u001b[0m\u001b[1mLayer (type)             \u001b[0m\u001b[1m \u001b[0m┃\u001b[1m \u001b[0m\u001b[1mOutput Shape          \u001b[0m\u001b[1m \u001b[0m┃\u001b[1m \u001b[0m\u001b[1m       Param #\u001b[0m\u001b[1m \u001b[0m┃\u001b[1m \u001b[0m\u001b[1mConnected to          \u001b[0m\u001b[1m \u001b[0m┃\n",
              "┡━━━━━━━━━━━━━━━━━━━━━━━━━━━╇━━━━━━━━━━━━━━━━━━━━━━━━╇━━━━━━━━━━━━━━━━╇━━━━━━━━━━━━━━━━━━━━━━━━┩\n",
              "│ encoder_input             │ (\u001b[38;5;45mNone\u001b[0m, \u001b[38;5;45mNone\u001b[0m)           │              \u001b[38;5;34m0\u001b[0m │ -                      │\n",
              "│ (\u001b[38;5;33mInputLayer\u001b[0m)              │                        │                │                        │\n",
              "├───────────────────────────┼────────────────────────┼────────────────┼────────────────────────┤\n",
              "│ decoder_input             │ (\u001b[38;5;45mNone\u001b[0m, \u001b[38;5;45mNone\u001b[0m)           │              \u001b[38;5;34m0\u001b[0m │ -                      │\n",
              "│ (\u001b[38;5;33mInputLayer\u001b[0m)              │                        │                │                        │\n",
              "├───────────────────────────┼────────────────────────┼────────────────┼────────────────────────┤\n",
              "│ embedding_2 (\u001b[38;5;33mEmbedding\u001b[0m)   │ (\u001b[38;5;45mNone\u001b[0m, \u001b[38;5;45mNone\u001b[0m, \u001b[38;5;34m256\u001b[0m)      │      \u001b[38;5;34m9,754,880\u001b[0m │ encoder_input[\u001b[38;5;34m0\u001b[0m][\u001b[38;5;34m0\u001b[0m]    │\n",
              "├───────────────────────────┼────────────────────────┼────────────────┼────────────────────────┤\n",
              "│ embedding_1 (\u001b[38;5;33mEmbedding\u001b[0m)   │ (\u001b[38;5;45mNone\u001b[0m, \u001b[38;5;45mNone\u001b[0m, \u001b[38;5;34m256\u001b[0m)      │      \u001b[38;5;34m9,754,880\u001b[0m │ decoder_input[\u001b[38;5;34m0\u001b[0m][\u001b[38;5;34m0\u001b[0m]    │\n",
              "├───────────────────────────┼────────────────────────┼────────────────┼────────────────────────┤\n",
              "│ encoder_lstm (\u001b[38;5;33mLSTM\u001b[0m)       │ [(\u001b[38;5;45mNone\u001b[0m, \u001b[38;5;34m512\u001b[0m), (\u001b[38;5;45mNone\u001b[0m,   │      \u001b[38;5;34m1,574,912\u001b[0m │ embedding_2[\u001b[38;5;34m0\u001b[0m][\u001b[38;5;34m0\u001b[0m]      │\n",
              "│                           │ \u001b[38;5;34m512\u001b[0m), (\u001b[38;5;45mNone\u001b[0m, \u001b[38;5;34m512\u001b[0m)]     │                │                        │\n",
              "├───────────────────────────┼────────────────────────┼────────────────┼────────────────────────┤\n",
              "│ decoder_lstm (\u001b[38;5;33mLSTM\u001b[0m)       │ (\u001b[38;5;45mNone\u001b[0m, \u001b[38;5;45mNone\u001b[0m, \u001b[38;5;34m512\u001b[0m)      │      \u001b[38;5;34m1,574,912\u001b[0m │ embedding_1[\u001b[38;5;34m0\u001b[0m][\u001b[38;5;34m0\u001b[0m],     │\n",
              "│                           │                        │                │ encoder_lstm[\u001b[38;5;34m1\u001b[0m][\u001b[38;5;34m1\u001b[0m],    │\n",
              "│                           │                        │                │ encoder_lstm[\u001b[38;5;34m1\u001b[0m][\u001b[38;5;34m2\u001b[0m],    │\n",
              "│                           │                        │                │ embedding_1[\u001b[38;5;34m0\u001b[0m][\u001b[38;5;34m0\u001b[0m],     │\n",
              "│                           │                        │                │ encoder_lstm[\u001b[38;5;34m1\u001b[0m][\u001b[38;5;34m1\u001b[0m],    │\n",
              "│                           │                        │                │ encoder_lstm[\u001b[38;5;34m1\u001b[0m][\u001b[38;5;34m2\u001b[0m]     │\n",
              "├───────────────────────────┼────────────────────────┼────────────────┼────────────────────────┤\n",
              "│ dialect_to_msa_output     │ (\u001b[38;5;45mNone\u001b[0m, \u001b[38;5;45mNone\u001b[0m, \u001b[38;5;34m38105\u001b[0m)    │     \u001b[38;5;34m19,547,865\u001b[0m │ decoder_lstm[\u001b[38;5;34m1\u001b[0m][\u001b[38;5;34m0\u001b[0m]     │\n",
              "│ (\u001b[38;5;33mDense\u001b[0m)                   │                        │                │                        │\n",
              "├───────────────────────────┼────────────────────────┼────────────────┼────────────────────────┤\n",
              "│ msa_to_dialect_output     │ (\u001b[38;5;45mNone\u001b[0m, \u001b[38;5;45mNone\u001b[0m, \u001b[38;5;34m38105\u001b[0m)    │     \u001b[38;5;34m19,547,865\u001b[0m │ decoder_lstm[\u001b[38;5;34m2\u001b[0m][\u001b[38;5;34m0\u001b[0m]     │\n",
              "│ (\u001b[38;5;33mDense\u001b[0m)                   │                        │                │                        │\n",
              "├───────────────────────────┼────────────────────────┼────────────────┼────────────────────────┤\n",
              "│ dialect_classifier_output │ (\u001b[38;5;45mNone\u001b[0m, \u001b[38;5;34m6\u001b[0m)              │          \u001b[38;5;34m3,078\u001b[0m │ encoder_lstm[\u001b[38;5;34m1\u001b[0m][\u001b[38;5;34m0\u001b[0m]     │\n",
              "│ (\u001b[38;5;33mDense\u001b[0m)                   │                        │                │                        │\n",
              "└───────────────────────────┴────────────────────────┴────────────────┴────────────────────────┘\n"
            ],
            "text/html": [
              "<pre style=\"white-space:pre;overflow-x:auto;line-height:normal;font-family:Menlo,'DejaVu Sans Mono',consolas,'Courier New',monospace\">┏━━━━━━━━━━━━━━━━━━━━━━━━━━━┳━━━━━━━━━━━━━━━━━━━━━━━━┳━━━━━━━━━━━━━━━━┳━━━━━━━━━━━━━━━━━━━━━━━━┓\n",
              "┃<span style=\"font-weight: bold\"> Layer (type)              </span>┃<span style=\"font-weight: bold\"> Output Shape           </span>┃<span style=\"font-weight: bold\">        Param # </span>┃<span style=\"font-weight: bold\"> Connected to           </span>┃\n",
              "┡━━━━━━━━━━━━━━━━━━━━━━━━━━━╇━━━━━━━━━━━━━━━━━━━━━━━━╇━━━━━━━━━━━━━━━━╇━━━━━━━━━━━━━━━━━━━━━━━━┩\n",
              "│ encoder_input             │ (<span style=\"color: #00d7ff; text-decoration-color: #00d7ff\">None</span>, <span style=\"color: #00d7ff; text-decoration-color: #00d7ff\">None</span>)           │              <span style=\"color: #00af00; text-decoration-color: #00af00\">0</span> │ -                      │\n",
              "│ (<span style=\"color: #0087ff; text-decoration-color: #0087ff\">InputLayer</span>)              │                        │                │                        │\n",
              "├───────────────────────────┼────────────────────────┼────────────────┼────────────────────────┤\n",
              "│ decoder_input             │ (<span style=\"color: #00d7ff; text-decoration-color: #00d7ff\">None</span>, <span style=\"color: #00d7ff; text-decoration-color: #00d7ff\">None</span>)           │              <span style=\"color: #00af00; text-decoration-color: #00af00\">0</span> │ -                      │\n",
              "│ (<span style=\"color: #0087ff; text-decoration-color: #0087ff\">InputLayer</span>)              │                        │                │                        │\n",
              "├───────────────────────────┼────────────────────────┼────────────────┼────────────────────────┤\n",
              "│ embedding_2 (<span style=\"color: #0087ff; text-decoration-color: #0087ff\">Embedding</span>)   │ (<span style=\"color: #00d7ff; text-decoration-color: #00d7ff\">None</span>, <span style=\"color: #00d7ff; text-decoration-color: #00d7ff\">None</span>, <span style=\"color: #00af00; text-decoration-color: #00af00\">256</span>)      │      <span style=\"color: #00af00; text-decoration-color: #00af00\">9,754,880</span> │ encoder_input[<span style=\"color: #00af00; text-decoration-color: #00af00\">0</span>][<span style=\"color: #00af00; text-decoration-color: #00af00\">0</span>]    │\n",
              "├───────────────────────────┼────────────────────────┼────────────────┼────────────────────────┤\n",
              "│ embedding_1 (<span style=\"color: #0087ff; text-decoration-color: #0087ff\">Embedding</span>)   │ (<span style=\"color: #00d7ff; text-decoration-color: #00d7ff\">None</span>, <span style=\"color: #00d7ff; text-decoration-color: #00d7ff\">None</span>, <span style=\"color: #00af00; text-decoration-color: #00af00\">256</span>)      │      <span style=\"color: #00af00; text-decoration-color: #00af00\">9,754,880</span> │ decoder_input[<span style=\"color: #00af00; text-decoration-color: #00af00\">0</span>][<span style=\"color: #00af00; text-decoration-color: #00af00\">0</span>]    │\n",
              "├───────────────────────────┼────────────────────────┼────────────────┼────────────────────────┤\n",
              "│ encoder_lstm (<span style=\"color: #0087ff; text-decoration-color: #0087ff\">LSTM</span>)       │ [(<span style=\"color: #00d7ff; text-decoration-color: #00d7ff\">None</span>, <span style=\"color: #00af00; text-decoration-color: #00af00\">512</span>), (<span style=\"color: #00d7ff; text-decoration-color: #00d7ff\">None</span>,   │      <span style=\"color: #00af00; text-decoration-color: #00af00\">1,574,912</span> │ embedding_2[<span style=\"color: #00af00; text-decoration-color: #00af00\">0</span>][<span style=\"color: #00af00; text-decoration-color: #00af00\">0</span>]      │\n",
              "│                           │ <span style=\"color: #00af00; text-decoration-color: #00af00\">512</span>), (<span style=\"color: #00d7ff; text-decoration-color: #00d7ff\">None</span>, <span style=\"color: #00af00; text-decoration-color: #00af00\">512</span>)]     │                │                        │\n",
              "├───────────────────────────┼────────────────────────┼────────────────┼────────────────────────┤\n",
              "│ decoder_lstm (<span style=\"color: #0087ff; text-decoration-color: #0087ff\">LSTM</span>)       │ (<span style=\"color: #00d7ff; text-decoration-color: #00d7ff\">None</span>, <span style=\"color: #00d7ff; text-decoration-color: #00d7ff\">None</span>, <span style=\"color: #00af00; text-decoration-color: #00af00\">512</span>)      │      <span style=\"color: #00af00; text-decoration-color: #00af00\">1,574,912</span> │ embedding_1[<span style=\"color: #00af00; text-decoration-color: #00af00\">0</span>][<span style=\"color: #00af00; text-decoration-color: #00af00\">0</span>],     │\n",
              "│                           │                        │                │ encoder_lstm[<span style=\"color: #00af00; text-decoration-color: #00af00\">1</span>][<span style=\"color: #00af00; text-decoration-color: #00af00\">1</span>],    │\n",
              "│                           │                        │                │ encoder_lstm[<span style=\"color: #00af00; text-decoration-color: #00af00\">1</span>][<span style=\"color: #00af00; text-decoration-color: #00af00\">2</span>],    │\n",
              "│                           │                        │                │ embedding_1[<span style=\"color: #00af00; text-decoration-color: #00af00\">0</span>][<span style=\"color: #00af00; text-decoration-color: #00af00\">0</span>],     │\n",
              "│                           │                        │                │ encoder_lstm[<span style=\"color: #00af00; text-decoration-color: #00af00\">1</span>][<span style=\"color: #00af00; text-decoration-color: #00af00\">1</span>],    │\n",
              "│                           │                        │                │ encoder_lstm[<span style=\"color: #00af00; text-decoration-color: #00af00\">1</span>][<span style=\"color: #00af00; text-decoration-color: #00af00\">2</span>]     │\n",
              "├───────────────────────────┼────────────────────────┼────────────────┼────────────────────────┤\n",
              "│ dialect_to_msa_output     │ (<span style=\"color: #00d7ff; text-decoration-color: #00d7ff\">None</span>, <span style=\"color: #00d7ff; text-decoration-color: #00d7ff\">None</span>, <span style=\"color: #00af00; text-decoration-color: #00af00\">38105</span>)    │     <span style=\"color: #00af00; text-decoration-color: #00af00\">19,547,865</span> │ decoder_lstm[<span style=\"color: #00af00; text-decoration-color: #00af00\">1</span>][<span style=\"color: #00af00; text-decoration-color: #00af00\">0</span>]     │\n",
              "│ (<span style=\"color: #0087ff; text-decoration-color: #0087ff\">Dense</span>)                   │                        │                │                        │\n",
              "├───────────────────────────┼────────────────────────┼────────────────┼────────────────────────┤\n",
              "│ msa_to_dialect_output     │ (<span style=\"color: #00d7ff; text-decoration-color: #00d7ff\">None</span>, <span style=\"color: #00d7ff; text-decoration-color: #00d7ff\">None</span>, <span style=\"color: #00af00; text-decoration-color: #00af00\">38105</span>)    │     <span style=\"color: #00af00; text-decoration-color: #00af00\">19,547,865</span> │ decoder_lstm[<span style=\"color: #00af00; text-decoration-color: #00af00\">2</span>][<span style=\"color: #00af00; text-decoration-color: #00af00\">0</span>]     │\n",
              "│ (<span style=\"color: #0087ff; text-decoration-color: #0087ff\">Dense</span>)                   │                        │                │                        │\n",
              "├───────────────────────────┼────────────────────────┼────────────────┼────────────────────────┤\n",
              "│ dialect_classifier_output │ (<span style=\"color: #00d7ff; text-decoration-color: #00d7ff\">None</span>, <span style=\"color: #00af00; text-decoration-color: #00af00\">6</span>)              │          <span style=\"color: #00af00; text-decoration-color: #00af00\">3,078</span> │ encoder_lstm[<span style=\"color: #00af00; text-decoration-color: #00af00\">1</span>][<span style=\"color: #00af00; text-decoration-color: #00af00\">0</span>]     │\n",
              "│ (<span style=\"color: #0087ff; text-decoration-color: #0087ff\">Dense</span>)                   │                        │                │                        │\n",
              "└───────────────────────────┴────────────────────────┴────────────────┴────────────────────────┘\n",
              "</pre>\n"
            ]
          },
          "metadata": {}
        },
        {
          "output_type": "display_data",
          "data": {
            "text/plain": [
              "\u001b[1m Total params: \u001b[0m\u001b[38;5;34m61,758,392\u001b[0m (235.59 MB)\n"
            ],
            "text/html": [
              "<pre style=\"white-space:pre;overflow-x:auto;line-height:normal;font-family:Menlo,'DejaVu Sans Mono',consolas,'Courier New',monospace\"><span style=\"font-weight: bold\"> Total params: </span><span style=\"color: #00af00; text-decoration-color: #00af00\">61,758,392</span> (235.59 MB)\n",
              "</pre>\n"
            ]
          },
          "metadata": {}
        },
        {
          "output_type": "display_data",
          "data": {
            "text/plain": [
              "\u001b[1m Trainable params: \u001b[0m\u001b[38;5;34m61,758,392\u001b[0m (235.59 MB)\n"
            ],
            "text/html": [
              "<pre style=\"white-space:pre;overflow-x:auto;line-height:normal;font-family:Menlo,'DejaVu Sans Mono',consolas,'Courier New',monospace\"><span style=\"font-weight: bold\"> Trainable params: </span><span style=\"color: #00af00; text-decoration-color: #00af00\">61,758,392</span> (235.59 MB)\n",
              "</pre>\n"
            ]
          },
          "metadata": {}
        },
        {
          "output_type": "display_data",
          "data": {
            "text/plain": [
              "\u001b[1m Non-trainable params: \u001b[0m\u001b[38;5;34m0\u001b[0m (0.00 B)\n"
            ],
            "text/html": [
              "<pre style=\"white-space:pre;overflow-x:auto;line-height:normal;font-family:Menlo,'DejaVu Sans Mono',consolas,'Courier New',monospace\"><span style=\"font-weight: bold\"> Non-trainable params: </span><span style=\"color: #00af00; text-decoration-color: #00af00\">0</span> (0.00 B)\n",
              "</pre>\n"
            ]
          },
          "metadata": {}
        }
      ]
    },
    {
      "cell_type": "code",
      "source": [
        "print(mtl_model.output_names)"
      ],
      "metadata": {
        "colab": {
          "base_uri": "https://localhost:8080/"
        },
        "id": "R-TjkCW-a4NB",
        "outputId": "98d04934-5781-4208-97e5-cf1821b12161"
      },
      "execution_count": null,
      "outputs": [
        {
          "output_type": "stream",
          "name": "stdout",
          "text": [
            "ListWrapper(['dialect_to_msa_output', 'msa_to_dialect_output', 'dialect_classifier_output'])\n"
          ]
        }
      ]
    },
    {
      "cell_type": "code",
      "source": [
        "print(\"Encoder Input Type:\", multitask_train_inputs[\"encoder_input\"].dtype)\n",
        "print(\"Decoder Input Type:\", multitask_train_inputs[\"decoder_dialect_to_msa_input\"].dtype)"
      ],
      "metadata": {
        "colab": {
          "base_uri": "https://localhost:8080/"
        },
        "id": "UwKEIsTayASn",
        "outputId": "9295550a-dccf-43e4-c679-5ec15d1a954b"
      },
      "execution_count": null,
      "outputs": [
        {
          "output_type": "stream",
          "name": "stdout",
          "text": [
            "Encoder Input Type: int32\n",
            "Decoder Input Type: float64\n"
          ]
        }
      ]
    },
    {
      "cell_type": "code",
      "source": [
        "# Convert inputs and outputs to numpy arrays\n",
        "multitask_train_inputs[\"encoder_input\"] = np.array(multitask_train_inputs[\"encoder_input\"], dtype=np.float32)\n",
        "multitask_train_inputs[\"decoder_dialect_to_msa_input\"] = np.array(multitask_train_inputs[\"decoder_dialect_to_msa_input\"], dtype=np.float32)\n",
        "\n",
        "multitask_train_outputs[\"dialect_to_msa_output\"] = np.array(multitask_train_outputs[\"dialect_to_msa_output\"], dtype=np.int32)\n",
        "multitask_train_outputs[\"msa_to_dialect_output\"] = np.array(multitask_train_outputs[\"msa_to_dialect_output\"], dtype=np.int32)"
      ],
      "metadata": {
        "id": "PWUKz4SdyFs3"
      },
      "execution_count": null,
      "outputs": []
    },
    {
      "cell_type": "code",
      "source": [
        "from sklearn.preprocessing import LabelEncoder\n",
        "import numpy as np\n",
        "\n",
        "# Combine all unique labels across training, validation, and test sets\n",
        "all_labels = np.unique(\n",
        "    np.concatenate([y_train_classifier, y_val_classifier, y_test_classifier])\n",
        ")\n",
        "\n",
        "# Fit LabelEncoder on all unique labels\n",
        "label_encoder = LabelEncoder()\n",
        "label_encoder.fit(all_labels)\n",
        "\n",
        "# Transform labels for all sets\n",
        "y_train_classifier_encoded = label_encoder.transform(y_train_classifier)\n",
        "y_val_classifier_encoded = label_encoder.transform(y_val_classifier)\n",
        "y_test_classifier_encoded = label_encoder.transform(y_test_classifier)\n",
        "\n",
        "# Update multitask outputs with encoded classifier labels\n",
        "multitask_train_outputs[\"dialect_classifier_output\"] = y_train_classifier_encoded\n",
        "multitask_val_outputs[\"dialect_classifier_output\"] = y_val_classifier_encoded\n",
        "multitask_test_outputs[\"dialect_classifier_output\"] = y_test_classifier_encoded\n",
        "\n",
        "# Verify the encoding process\n",
        "print(\"Unique Labels in Training:\", np.unique(y_train_classifier_encoded))\n",
        "print(\"Unique Labels in Validation:\", np.unique(y_val_classifier_encoded))\n",
        "print(\"Unique Labels in Test:\", np.unique(y_test_classifier_encoded))"
      ],
      "metadata": {
        "colab": {
          "base_uri": "https://localhost:8080/"
        },
        "id": "nwVg9cUMyRVH",
        "outputId": "8956bbd2-d572-4980-9600-0f2d1a50f3a2"
      },
      "execution_count": null,
      "outputs": [
        {
          "output_type": "stream",
          "name": "stdout",
          "text": [
            "Unique Labels in Training: [0 1 5]\n",
            "Unique Labels in Validation: [3 4 5]\n",
            "Unique Labels in Test: [2 4]\n"
          ]
        }
      ]
    },
    {
      "cell_type": "code",
      "source": [
        "# Train the MTL model\n",
        "history_mtl = mtl_model.fit(\n",
        "    [multitask_train_inputs[\"encoder_input\"], multitask_train_inputs[\"decoder_dialect_to_msa_input\"]],\n",
        "    [\n",
        "        multitask_train_outputs[\"dialect_to_msa_output\"],\n",
        "        multitask_train_outputs[\"msa_to_dialect_output\"],\n",
        "        multitask_train_outputs[\"dialect_classifier_output\"],\n",
        "    ],\n",
        "    batch_size=16,\n",
        "    epochs=5,\n",
        "    validation_data=(\n",
        "        [multitask_val_inputs[\"encoder_input\"], multitask_val_inputs[\"decoder_dialect_to_msa_input\"]],\n",
        "        [\n",
        "            multitask_val_outputs[\"dialect_to_msa_output\"],\n",
        "            multitask_val_outputs[\"msa_to_dialect_output\"],\n",
        "            multitask_val_outputs[\"dialect_classifier_output\"],\n",
        "        ]\n",
        "    )\n",
        ")"
      ],
      "metadata": {
        "colab": {
          "base_uri": "https://localhost:8080/"
        },
        "id": "COGB79aIQ86W",
        "outputId": "068acc71-d9f2-41e0-dc2b-cae89d36737e"
      },
      "execution_count": null,
      "outputs": [
        {
          "output_type": "stream",
          "name": "stdout",
          "text": [
            "Epoch 1/5\n",
            "\u001b[1m962/962\u001b[0m \u001b[32m━━━━━━━━━━━━━━━━━━━━\u001b[0m\u001b[37m\u001b[0m \u001b[1m361s\u001b[0m 372ms/step - dialect_classifier_output_accuracy: 0.4067 - dialect_classifier_output_loss: 0.8526 - dialect_to_msa_output_accuracy: 0.8610 - dialect_to_msa_output_loss: 0.6922 - loss: 2.9165 - msa_to_dialect_output_accuracy: 0.8621 - msa_to_dialect_output_loss: 1.3717 - val_dialect_classifier_output_accuracy: 0.0000e+00 - val_dialect_classifier_output_loss: 5.9923 - val_dialect_to_msa_output_accuracy: 0.8873 - val_dialect_to_msa_output_loss: 0.3516 - val_loss: 7.0446 - val_msa_to_dialect_output_accuracy: 0.8875 - val_msa_to_dialect_output_loss: 0.7010\n",
            "Epoch 2/5\n",
            "\u001b[1m962/962\u001b[0m \u001b[32m━━━━━━━━━━━━━━━━━━━━\u001b[0m\u001b[37m\u001b[0m \u001b[1m334s\u001b[0m 323ms/step - dialect_classifier_output_accuracy: 0.4616 - dialect_classifier_output_loss: 0.8307 - dialect_to_msa_output_accuracy: 0.9014 - dialect_to_msa_output_loss: 0.2810 - loss: 1.6706 - msa_to_dialect_output_accuracy: 0.9017 - msa_to_dialect_output_loss: 0.5588 - val_dialect_classifier_output_accuracy: 0.0000e+00 - val_dialect_classifier_output_loss: 6.3633 - val_dialect_to_msa_output_accuracy: 0.9084 - val_dialect_to_msa_output_loss: 0.2731 - val_loss: 7.1811 - val_msa_to_dialect_output_accuracy: 0.9085 - val_msa_to_dialect_output_loss: 0.5450\n",
            "Epoch 3/5\n",
            "\u001b[1m962/962\u001b[0m \u001b[32m━━━━━━━━━━━━━━━━━━━━\u001b[0m\u001b[37m\u001b[0m \u001b[1m368s\u001b[0m 371ms/step - dialect_classifier_output_accuracy: 0.5310 - dialect_classifier_output_loss: 0.7843 - dialect_to_msa_output_accuracy: 0.9251 - dialect_to_msa_output_loss: 0.2049 - loss: 1.3973 - msa_to_dialect_output_accuracy: 0.9252 - msa_to_dialect_output_loss: 0.4081 - val_dialect_classifier_output_accuracy: 0.0000e+00 - val_dialect_classifier_output_loss: 6.5990 - val_dialect_to_msa_output_accuracy: 0.9230 - val_dialect_to_msa_output_loss: 0.2311 - val_loss: 7.2916 - val_msa_to_dialect_output_accuracy: 0.9232 - val_msa_to_dialect_output_loss: 0.4619\n",
            "Epoch 4/5\n",
            "\u001b[1m962/962\u001b[0m \u001b[32m━━━━━━━━━━━━━━━━━━━━\u001b[0m\u001b[37m\u001b[0m \u001b[1m357s\u001b[0m 371ms/step - dialect_classifier_output_accuracy: 0.5644 - dialect_classifier_output_loss: 0.7518 - dialect_to_msa_output_accuracy: 0.9396 - dialect_to_msa_output_loss: 0.1644 - loss: 1.2441 - msa_to_dialect_output_accuracy: 0.9397 - msa_to_dialect_output_loss: 0.3279 - val_dialect_classifier_output_accuracy: 0.0000e+00 - val_dialect_classifier_output_loss: 6.9679 - val_dialect_to_msa_output_accuracy: 0.9340 - val_dialect_to_msa_output_loss: 0.2034 - val_loss: 7.5780 - val_msa_to_dialect_output_accuracy: 0.9342 - val_msa_to_dialect_output_loss: 0.4071\n",
            "Epoch 5/5\n",
            "\u001b[1m962/962\u001b[0m \u001b[32m━━━━━━━━━━━━━━━━━━━━\u001b[0m\u001b[37m\u001b[0m \u001b[1m380s\u001b[0m 369ms/step - dialect_classifier_output_accuracy: 0.6189 - dialect_classifier_output_loss: 0.6806 - dialect_to_msa_output_accuracy: 0.9492 - dialect_to_msa_output_loss: 0.1385 - loss: 1.0953 - msa_to_dialect_output_accuracy: 0.9493 - msa_to_dialect_output_loss: 0.2763 - val_dialect_classifier_output_accuracy: 0.0000e+00 - val_dialect_classifier_output_loss: 7.0578 - val_dialect_to_msa_output_accuracy: 0.9406 - val_dialect_to_msa_output_loss: 0.1859 - val_loss: 7.6160 - val_msa_to_dialect_output_accuracy: 0.9407 - val_msa_to_dialect_output_loss: 0.3726\n"
          ]
        }
      ]
    },
    {
      "cell_type": "code",
      "source": [
        "print(type(multitask_train_inputs[\"encoder_input\"]), multitask_train_inputs[\"encoder_input\"].dtype)\n",
        "print(type(multitask_train_outputs[\"dialect_to_msa_output\"]), multitask_train_outputs[\"dialect_to_msa_output\"].dtype)\n",
        "print(type(multitask_train_outputs[\"dialect_classifier_output\"]), multitask_train_outputs[\"dialect_classifier_output\"].dtype)"
      ],
      "metadata": {
        "id": "yH3FXNOweSCK",
        "colab": {
          "base_uri": "https://localhost:8080/"
        },
        "outputId": "382ec209-47d8-407a-8319-be8392f9f113"
      },
      "execution_count": null,
      "outputs": [
        {
          "output_type": "stream",
          "name": "stdout",
          "text": [
            "<class 'numpy.ndarray'> float32\n",
            "<class 'numpy.ndarray'> int32\n",
            "<class 'numpy.ndarray'> int64\n"
          ]
        }
      ]
    },
    {
      "cell_type": "code",
      "source": [
        "# Ensure encoder input is tokenized and padded\n",
        "multitask_train_inputs[\"encoder_input\"] = np.array(multitask_train_inputs[\"encoder_input\"], dtype=\"int32\")\n",
        "\n",
        "# Ensure decoder input is tokenized and padded\n",
        "multitask_train_inputs[\"decoder_dialect_to_msa_input\"] = np.array(multitask_train_inputs[\"decoder_dialect_to_msa_input\"], dtype=\"int32\")"
      ],
      "metadata": {
        "id": "ESyJD3heeT3h"
      },
      "execution_count": null,
      "outputs": []
    },
    {
      "cell_type": "code",
      "source": [
        "# Ensure all labels are strings\n",
        "y_train_classifier = y_train_classifier.astype(str)\n",
        "y_val_classifier = y_val_classifier.astype(str)\n",
        "y_test_classifier = y_test_classifier.astype(str)\n",
        "\n",
        "# Combine all unique labels across datasets\n",
        "all_labels = np.unique(np.concatenate([y_train_classifier, y_val_classifier, y_test_classifier]))\n",
        "\n",
        "# Fit LabelEncoder on all unique labels\n",
        "label_encoder = LabelEncoder()\n",
        "label_encoder.fit(all_labels)\n",
        "\n",
        "# Transform labels for training, validation, and test sets\n",
        "y_train_classifier = label_encoder.transform(y_train_classifier)\n",
        "y_val_classifier = label_encoder.transform(y_val_classifier)\n",
        "y_test_classifier = label_encoder.transform(y_test_classifier)\n",
        "\n",
        "# Update multitask outputs\n",
        "multitask_train_outputs[\"dialect_classifier_output\"] = y_train_classifier\n",
        "multitask_val_outputs[\"dialect_classifier_output\"] = y_val_classifier\n",
        "multitask_test_outputs[\"dialect_classifier_output\"] = y_test_classifier\n"
      ],
      "metadata": {
        "id": "jzweLFvae1G9"
      },
      "execution_count": null,
      "outputs": []
    },
    {
      "cell_type": "code",
      "source": [
        "# Check the unique labels after encoding\n",
        "print(\"Unique Encoded Labels (Training):\", np.unique(y_train_classifier))\n",
        "print(\"Unique Encoded Labels (Validation):\", np.unique(y_val_classifier))\n",
        "print(\"Unique Encoded Labels (Test):\", np.unique(y_test_classifier))\n",
        "\n",
        "# Check the mapping of labels\n",
        "print(\"Label Mapping:\", dict(zip(label_encoder.classes_, label_encoder.transform(label_encoder.classes_))))"
      ],
      "metadata": {
        "id": "LlTrmiBEfBRc",
        "colab": {
          "base_uri": "https://localhost:8080/"
        },
        "outputId": "479c69e7-4ec7-46a9-efdb-f79a9cb4ec1c"
      },
      "execution_count": null,
      "outputs": [
        {
          "output_type": "stream",
          "name": "stdout",
          "text": [
            "Unique Encoded Labels (Training): [0 1 5]\n",
            "Unique Encoded Labels (Validation): [3 4 5]\n",
            "Unique Encoded Labels (Test): [2 4]\n",
            "Label Mapping: {'ALG': 0, 'ANB': 1, 'MAR': 2, 'PAL': 3, 'SYR': 4, 'TUN': 5}\n"
          ]
        }
      ]
    },
    {
      "cell_type": "code",
      "source": [
        "# Train the MTL model\n",
        "history_mtl = mtl_model.fit(\n",
        "    [multitask_train_inputs[\"encoder_input\"], multitask_train_inputs[\"decoder_dialect_to_msa_input\"]],\n",
        "    [\n",
        "        multitask_train_outputs[\"dialect_to_msa_output\"],\n",
        "        multitask_train_outputs[\"msa_to_dialect_output\"],\n",
        "        multitask_train_outputs[\"dialect_classifier_output\"],\n",
        "    ],\n",
        "    batch_size=64,\n",
        "    epochs=10,\n",
        "    validation_data=(\n",
        "        [multitask_val_inputs[\"encoder_input\"], multitask_val_inputs[\"decoder_dialect_to_msa_input\"]],\n",
        "        [\n",
        "            multitask_val_outputs[\"dialect_to_msa_output\"],\n",
        "            multitask_val_outputs[\"msa_to_dialect_output\"],\n",
        "            multitask_val_outputs[\"dialect_classifier_output\"],\n",
        "        ]\n",
        "    )\n",
        ")"
      ],
      "metadata": {
        "id": "Y_4JWhHNfKGn"
      },
      "execution_count": null,
      "outputs": []
    },
    {
      "cell_type": "code",
      "source": [
        "import matplotlib.pyplot as plt\n",
        "\n",
        "# Plot Training Loss Comparison for Dialect-to-MSA Task\n",
        "plt.figure(figsize=(10, 5))\n",
        "plt.plot(history_baseline.history['loss'], label=\"Baseline Training Loss (Dialect-to-MSA)\", color='blue')\n",
        "plt.plot(history_mtl.history['dialect_to_msa_output_loss'], label=\"MTL Training Loss (Dialect-to-MSA)\", color='orange')\n",
        "plt.title(\"Training Loss Comparison: Dialect-to-MSA Task\")\n",
        "plt.xlabel(\"Epochs\")\n",
        "plt.ylabel(\"Loss\")\n",
        "plt.legend()\n",
        "plt.show()\n",
        "\n",
        "# Plot Validation Loss Comparison for Dialect-to-MSA Task\n",
        "plt.figure(figsize=(10, 5))\n",
        "plt.plot(history_baseline.history['val_loss'], label=\"Baseline Validation Loss (Dialect-to-MSA)\", color='blue')\n",
        "plt.plot(history_mtl.history['val_dialect_to_msa_output_loss'], label=\"MTL Validation Loss (Dialect-to-MSA)\", color='orange')\n",
        "plt.title(\"Validation Loss Comparison: Dialect-to-MSA Task\")\n",
        "plt.xlabel(\"Epochs\")\n",
        "plt.ylabel(\"Loss\")\n",
        "plt.legend()\n",
        "plt.show()"
      ],
      "metadata": {
        "id": "32iIhJ9EXEEU",
        "colab": {
          "base_uri": "https://localhost:8080/",
          "height": 957
        },
        "outputId": "84af0576-d26c-44d1-ad57-5e51ff6ee27f"
      },
      "execution_count": null,
      "outputs": [
        {
          "output_type": "display_data",
          "data": {
            "text/plain": [
              "<Figure size 1000x500 with 1 Axes>"
            ],
            "image/png": "[encoded data removed]"
          },
          "metadata": {}
        },
        {
          "output_type": "display_data",
          "data": {
            "text/plain": [
              "<Figure size 1000x500 with 1 Axes>"
            ],
            "image/png": "[encoded data removed]"
          },
          "metadata": {}
        }
      ]
    },
    {
      "cell_type": "code",
      "source": [
        "from nltk.translate.bleu_score import sentence_bleu\n",
        "\n",
        "import tensorflow as tf\n",
        "\n",
        "# Set device to CPU\n",
        "with tf.device('/CPU:0'):\n",
        "    baseline_test_predictions = baseline_model.predict(\n",
        "        [multitask_test_inputs[\"encoder_input\"], multitask_test_inputs[\"decoder_dialect_to_msa_input\"]],\n",
        "        batch_size=8\n",
        "\n",
        "    )\n",
        "\n",
        "\n",
        "# Convert predictions and ground truth to text\n",
        "baseline_predicted_sequences_test = tokenizer.sequences_to_texts(np.argmax(baseline_test_predictions, axis=-1))\n",
        "baseline_true_sequences_test = tokenizer.sequences_to_texts(multitask_test_outputs[\"dialect_to_msa_output\"])\n",
        "\n",
        "# Calculate BLEU score for the test set\n",
        "baseline_test_bleu_scores = []\n",
        "for true_seq, pred_seq in zip(baseline_true_sequences_test, baseline_predicted_sequences_test):\n",
        "    bleu = sentence_bleu([true_seq.split()], pred_seq.split(), weights=(0.5, 0.5))  # Adjust weights if necessary\n",
        "    baseline_test_bleu_scores.append(bleu)\n",
        "\n",
        "# Calculate mean BLEU score for the Baseline Model\n",
        "baseline_test_bleu = np.mean(baseline_test_bleu_scores)\n",
        "print(f\"Baseline Test BLEU Score: {baseline_test_bleu:.4f}\")"
      ],
      "metadata": {
        "id": "HBCbVhMlrf8N",
        "colab": {
          "base_uri": "https://localhost:8080/"
        },
        "outputId": "fa385f2c-349c-4e4c-eaf5-feefcc17b213"
      },
      "execution_count": null,
      "outputs": [
        {
          "output_type": "stream",
          "name": "stdout",
          "text": [
            "\u001b[1m100/962\u001b[0m \u001b[32m━━\u001b[0m\u001b[37m━━━━━━━━━━━━━━━━━━\u001b[0m \u001b[1m6:16\u001b[0m 436ms/step"
          ]
        }
      ]
    },
    {
      "cell_type": "code",
      "source": [
        "# Predict on the test set for MTL Model\n",
        "mtl_test_predictions = mtl_model.predict([X_test_mtl, np.zeros_like(X_test_mtl)])\n",
        "\n",
        "# Convert Dialect-to-MSA predictions and ground truth to text\n",
        "mtl_predicted_sequences_test = tokenizer.sequences_to_texts(np.argmax(mtl_test_predictions[0], axis=-1))  # Task 1: Dialect-to-MSA\n",
        "mtl_true_sequences_test = tokenizer.sequences_to_texts(y_test_dialect_to_msa)\n",
        "\n",
        "# Calculate BLEU score for the test set\n",
        "mtl_test_bleu_scores = []\n",
        "for true_seq, pred_seq in zip(mtl_true_sequences_test, mtl_predicted_sequences_test):\n",
        "    bleu = sentence_bleu([true_seq.split()], pred_seq.split(), weights=(0.5, 0.5))\n",
        "    mtl_test_bleu_scores.append(bleu)\n",
        "\n",
        "mtl_test_bleu = np.mean(mtl_test_bleu_scores)\n",
        "print(f\"MTL Test BLEU Score: {mtl_test_bleu:.4f}\")"
      ],
      "metadata": {
        "id": "SyvzxLHErjtW",
        "colab": {
          "base_uri": "https://localhost:8080/",
          "height": 1000
        },
        "outputId": "c62ebef9-a5b3-4d13-f8ba-1a4f44a764ce"
      },
      "execution_count": null,
      "outputs": [
        {
          "output_type": "error",
          "ename": "ResourceExhaustedError",
          "evalue": "Graph execution error:\n\nDetected at node functional_1_1/msa_to_dialect_output_1/MatMul defined at (most recent call last):\n  File \"<frozen runpy>\", line 198, in _run_module_as_main\n\n  File \"<frozen runpy>\", line 88, in _run_code\n\n  File \"/usr/local/lib/python3.11/dist-packages/colab_kernel_launcher.py\", line 37, in <module>\n\n  File \"/usr/local/lib/python3.11/dist-packages/traitlets/config/application.py\", line 992, in launch_instance\n\n  File \"/usr/local/lib/python3.11/dist-packages/ipykernel/kernelapp.py\", line 619, in start\n\n  File \"/usr/local/lib/python3.11/dist-packages/tornado/platform/asyncio.py\", line 195, in start\n\n  File \"/usr/lib/python3.11/asyncio/base_events.py\", line 608, in run_forever\n\n  File \"/usr/lib/python3.11/asyncio/base_events.py\", line 1936, in _run_once\n\n  File \"/usr/lib/python3.11/asyncio/events.py\", line 84, in _run\n\n  File \"/usr/local/lib/python3.11/dist-packages/tornado/ioloop.py\", line 685, in <lambda>\n\n  File \"/usr/local/lib/python3.11/dist-packages/tornado/ioloop.py\", line 738, in _run_callback\n\n  File \"/usr/local/lib/python3.11/dist-packages/tornado/gen.py\", line 825, in inner\n\n  File \"/usr/local/lib/python3.11/dist-packages/tornado/gen.py\", line 786, in run\n\n  File \"/usr/local/lib/python3.11/dist-packages/ipykernel/kernelbase.py\", line 361, in process_one\n\n  File \"/usr/local/lib/python3.11/dist-packages/tornado/gen.py\", line 234, in wrapper\n\n  File \"/usr/local/lib/python3.11/dist-packages/ipykernel/kernelbase.py\", line 261, in dispatch_shell\n\n  File \"/usr/local/lib/python3.11/dist-packages/tornado/gen.py\", line 234, in wrapper\n\n  File \"/usr/local/lib/python3.11/dist-packages/ipykernel/kernelbase.py\", line 539, in execute_request\n\n  File \"/usr/local/lib/python3.11/dist-packages/tornado/gen.py\", line 234, in wrapper\n\n  File \"/usr/local/lib/python3.11/dist-packages/ipykernel/ipkernel.py\", line 302, in do_execute\n\n  File \"/usr/local/lib/python3.11/dist-packages/ipykernel/zmqshell.py\", line 539, in run_cell\n\n  File \"/usr/local/lib/python3.11/dist-packages/IPython/core/interactiveshell.py\", line 2975, in run_cell\n\n  File \"/usr/local/lib/python3.11/dist-packages/IPython/core/interactiveshell.py\", line 3030, in _run_cell\n\n  File \"/usr/local/lib/python3.11/dist-packages/IPython/core/async_helpers.py\", line 78, in _pseudo_sync_runner\n\n  File \"/usr/local/lib/python3.11/dist-packages/IPython/core/interactiveshell.py\", line 3257, in run_cell_async\n\n  File \"/usr/local/lib/python3.11/dist-packages/IPython/core/interactiveshell.py\", line 3473, in run_ast_nodes\n\n  File \"/usr/local/lib/python3.11/dist-packages/IPython/core/interactiveshell.py\", line 3553, in run_code\n\n  File \"<ipython-input-33-a54d1f730d68>\", line 2, in <cell line: 0>\n\n  File \"/usr/local/lib/python3.11/dist-packages/keras/src/utils/traceback_utils.py\", line 117, in error_handler\n\n  File \"/usr/local/lib/python3.11/dist-packages/keras/src/backend/tensorflow/trainer.py\", line 512, in predict\n\n  File \"/usr/local/lib/python3.11/dist-packages/keras/src/backend/tensorflow/trainer.py\", line 208, in one_step_on_data_distributed\n\n  File \"/usr/local/lib/python3.11/dist-packages/keras/src/backend/tensorflow/trainer.py\", line 198, in one_step_on_data\n\n  File \"/usr/local/lib/python3.11/dist-packages/keras/src/backend/tensorflow/trainer.py\", line 96, in predict_step\n\n  File \"/usr/local/lib/python3.11/dist-packages/keras/src/utils/traceback_utils.py\", line 117, in error_handler\n\n  File \"/usr/local/lib/python3.11/dist-packages/keras/src/layers/layer.py\", line 901, in __call__\n\n  File \"/usr/local/lib/python3.11/dist-packages/keras/src/utils/traceback_utils.py\", line 117, in error_handler\n\n  File \"/usr/local/lib/python3.11/dist-packages/keras/src/ops/operation.py\", line 46, in __call__\n\n  File \"/usr/local/lib/python3.11/dist-packages/keras/src/utils/traceback_utils.py\", line 156, in error_handler\n\n  File \"/usr/local/lib/python3.11/dist-packages/keras/src/models/functional.py\", line 175, in call\n\n  File \"/usr/local/lib/python3.11/dist-packages/keras/src/ops/function.py\", line 171, in _run_through_graph\n\n  File \"/usr/local/lib/python3.11/dist-packages/keras/src/models/functional.py\", line 560, in call\n\n  File \"/usr/local/lib/python3.11/dist-packages/keras/src/utils/traceback_utils.py\", line 117, in error_handler\n\n  File \"/usr/local/lib/python3.11/dist-packages/keras/src/layers/layer.py\", line 901, in __call__\n\n  File \"/usr/local/lib/python3.11/dist-packages/keras/src/utils/traceback_utils.py\", line 117, in error_handler\n\n  File \"/usr/local/lib/python3.11/dist-packages/keras/src/ops/operation.py\", line 46, in __call__\n\n  File \"/usr/local/lib/python3.11/dist-packages/keras/src/utils/traceback_utils.py\", line 156, in error_handler\n\n  File \"/usr/local/lib/python3.11/dist-packages/keras/src/layers/core/dense.py\", line 144, in call\n\n  File \"/usr/local/lib/python3.11/dist-packages/keras/src/ops/numpy.py\", line 3445, in matmul\n\n  File \"/usr/local/lib/python3.11/dist-packages/keras/src/backend/tensorflow/numpy.py\", line 483, in matmul\n\nOOM when allocating tensor with shape[32,55,38105] and type float on /job:localhost/replica:0/task:0/device:GPU:0 by allocator GPU_0_bfc\n\t [[{{node functional_1_1/msa_to_dialect_output_1/MatMul}}]]\nHint: If you want to see a list of allocated tensors when OOM happens, add report_tensor_allocations_upon_oom to RunOptions for current allocation info. This isn't available when running in Eager mode.\n [Op:__inference_one_step_on_data_distributed_357617]",
          "traceback": [
            "\u001b[0;31m---------------------------------------------------------------------------\u001b[0m",
            "\u001b[0;31mResourceExhaustedError\u001b[0m                    Traceback (most recent call last)",
            "\u001b[0;32m<ipython-input-33-a54d1f730d68>\u001b[0m in \u001b[0;36m<cell line: 0>\u001b[0;34m()\u001b[0m\n\u001b[1;32m      1\u001b[0m \u001b[0;31m# Predict on the test set for MTL Model\u001b[0m\u001b[0;34m\u001b[0m\u001b[0;34m\u001b[0m\u001b[0m\n\u001b[0;32m----> 2\u001b[0;31m \u001b[0mmtl_test_predictions\u001b[0m \u001b[0;34m=\u001b[0m \u001b[0mmtl_model\u001b[0m\u001b[0;34m.\u001b[0m\u001b[0mpredict\u001b[0m\u001b[0;34m(\u001b[0m\u001b[0;34m[\u001b[0m\u001b[0mX_test_mtl\u001b[0m\u001b[0;34m,\u001b[0m \u001b[0mnp\u001b[0m\u001b[0;34m.\u001b[0m\u001b[0mzeros_like\u001b[0m\u001b[0;34m(\u001b[0m\u001b[0mX_test_mtl\u001b[0m\u001b[0;34m)\u001b[0m\u001b[0;34m]\u001b[0m\u001b[0;34m)\u001b[0m\u001b[0;34m\u001b[0m\u001b[0;34m\u001b[0m\u001b[0m\n\u001b[0m\u001b[1;32m      3\u001b[0m \u001b[0;34m\u001b[0m\u001b[0m\n\u001b[1;32m      4\u001b[0m \u001b[0;31m# Convert Dialect-to-MSA predictions and ground truth to text\u001b[0m\u001b[0;34m\u001b[0m\u001b[0;34m\u001b[0m\u001b[0m\n\u001b[1;32m      5\u001b[0m \u001b[0mmtl_predicted_sequences_test\u001b[0m \u001b[0;34m=\u001b[0m \u001b[0mtokenizer\u001b[0m\u001b[0;34m.\u001b[0m\u001b[0msequences_to_texts\u001b[0m\u001b[0;34m(\u001b[0m\u001b[0mnp\u001b[0m\u001b[0;34m.\u001b[0m\u001b[0margmax\u001b[0m\u001b[0;34m(\u001b[0m\u001b[0mmtl_test_predictions\u001b[0m\u001b[0;34m[\u001b[0m\u001b[0;36m0\u001b[0m\u001b[0;34m]\u001b[0m\u001b[0;34m,\u001b[0m \u001b[0maxis\u001b[0m\u001b[0;34m=\u001b[0m\u001b[0;34m-\u001b[0m\u001b[0;36m1\u001b[0m\u001b[0;34m)\u001b[0m\u001b[0;34m)\u001b[0m  \u001b[0;31m# Task 1: Dialect-to-MSA\u001b[0m\u001b[0;34m\u001b[0m\u001b[0;34m\u001b[0m\u001b[0m\n",
            "\u001b[0;32m/usr/local/lib/python3.11/dist-packages/keras/src/utils/traceback_utils.py\u001b[0m in \u001b[0;36merror_handler\u001b[0;34m(*args, **kwargs)\u001b[0m\n\u001b[1;32m    120\u001b[0m             \u001b[0;31m# To get the full stack trace, call:\u001b[0m\u001b[0;34m\u001b[0m\u001b[0;34m\u001b[0m\u001b[0m\n\u001b[1;32m    121\u001b[0m             \u001b[0;31m# `keras.config.disable_traceback_filtering()`\u001b[0m\u001b[0;34m\u001b[0m\u001b[0;34m\u001b[0m\u001b[0m\n\u001b[0;32m--> 122\u001b[0;31m             \u001b[0;32mraise\u001b[0m \u001b[0me\u001b[0m\u001b[0;34m.\u001b[0m\u001b[0mwith_traceback\u001b[0m\u001b[0;34m(\u001b[0m\u001b[0mfiltered_tb\u001b[0m\u001b[0;34m)\u001b[0m \u001b[0;32mfrom\u001b[0m \u001b[0;32mNone\u001b[0m\u001b[0;34m\u001b[0m\u001b[0;34m\u001b[0m\u001b[0m\n\u001b[0m\u001b[1;32m    123\u001b[0m         \u001b[0;32mfinally\u001b[0m\u001b[0;34m:\u001b[0m\u001b[0;34m\u001b[0m\u001b[0;34m\u001b[0m\u001b[0m\n\u001b[1;32m    124\u001b[0m             \u001b[0;32mdel\u001b[0m \u001b[0mfiltered_tb\u001b[0m\u001b[0;34m\u001b[0m\u001b[0;34m\u001b[0m\u001b[0m\n",
            "\u001b[0;32m/usr/local/lib/python3.11/dist-packages/tensorflow/python/eager/execute.py\u001b[0m in \u001b[0;36mquick_execute\u001b[0;34m(op_name, num_outputs, inputs, attrs, ctx, name)\u001b[0m\n\u001b[1;32m     57\u001b[0m       \u001b[0me\u001b[0m\u001b[0;34m.\u001b[0m\u001b[0mmessage\u001b[0m \u001b[0;34m+=\u001b[0m \u001b[0;34m\" name: \"\u001b[0m \u001b[0;34m+\u001b[0m \u001b[0mname\u001b[0m\u001b[0;34m\u001b[0m\u001b[0;34m\u001b[0m\u001b[0m\n\u001b[1;32m     58\u001b[0m     \u001b[0;32mraise\u001b[0m \u001b[0mcore\u001b[0m\u001b[0;34m.\u001b[0m\u001b[0m_status_to_exception\u001b[0m\u001b[0;34m(\u001b[0m\u001b[0me\u001b[0m\u001b[0;34m)\u001b[0m \u001b[0;32mfrom\u001b[0m \u001b[0;32mNone\u001b[0m\u001b[0;34m\u001b[0m\u001b[0;34m\u001b[0m\u001b[0m\n\u001b[0;32m---> 59\u001b[0;31m   \u001b[0;32mexcept\u001b[0m \u001b[0mTypeError\u001b[0m \u001b[0;32mas\u001b[0m \u001b[0me\u001b[0m\u001b[0;34m:\u001b[0m\u001b[0;34m\u001b[0m\u001b[0;34m\u001b[0m\u001b[0m\n\u001b[0m\u001b[1;32m     60\u001b[0m     \u001b[0mkeras_symbolic_tensors\u001b[0m \u001b[0;34m=\u001b[0m \u001b[0;34m[\u001b[0m\u001b[0mx\u001b[0m \u001b[0;32mfor\u001b[0m \u001b[0mx\u001b[0m \u001b[0;32min\u001b[0m \u001b[0minputs\u001b[0m \u001b[0;32mif\u001b[0m \u001b[0m_is_keras_symbolic_tensor\u001b[0m\u001b[0;34m(\u001b[0m\u001b[0mx\u001b[0m\u001b[0;34m)\u001b[0m\u001b[0;34m]\u001b[0m\u001b[0;34m\u001b[0m\u001b[0;34m\u001b[0m\u001b[0m\n\u001b[1;32m     61\u001b[0m     \u001b[0;32mif\u001b[0m \u001b[0mkeras_symbolic_tensors\u001b[0m\u001b[0;34m:\u001b[0m\u001b[0;34m\u001b[0m\u001b[0;34m\u001b[0m\u001b[0m\n",
            "\u001b[0;31mResourceExhaustedError\u001b[0m: Graph execution error:\n\nDetected at node functional_1_1/msa_to_dialect_output_1/MatMul defined at (most recent call last):\n  File \"<frozen runpy>\", line 198, in _run_module_as_main\n\n  File \"<frozen runpy>\", line 88, in _run_code\n\n  File \"/usr/local/lib/python3.11/dist-packages/colab_kernel_launcher.py\", line 37, in <module>\n\n  File \"/usr/local/lib/python3.11/dist-packages/traitlets/config/application.py\", line 992, in launch_instance\n\n  File \"/usr/local/lib/python3.11/dist-packages/ipykernel/kernelapp.py\", line 619, in start\n\n  File \"/usr/local/lib/python3.11/dist-packages/tornado/platform/asyncio.py\", line 195, in start\n\n  File \"/usr/lib/python3.11/asyncio/base_events.py\", line 608, in run_forever\n\n  File \"/usr/lib/python3.11/asyncio/base_events.py\", line 1936, in _run_once\n\n  File \"/usr/lib/python3.11/asyncio/events.py\", line 84, in _run\n\n  File \"/usr/local/lib/python3.11/dist-packages/tornado/ioloop.py\", line 685, in <lambda>\n\n  File \"/usr/local/lib/python3.11/dist-packages/tornado/ioloop.py\", line 738, in _run_callback\n\n  File \"/usr/local/lib/python3.11/dist-packages/tornado/gen.py\", line 825, in inner\n\n  File \"/usr/local/lib/python3.11/dist-packages/tornado/gen.py\", line 786, in run\n\n  File \"/usr/local/lib/python3.11/dist-packages/ipykernel/kernelbase.py\", line 361, in process_one\n\n  File \"/usr/local/lib/python3.11/dist-packages/tornado/gen.py\", line 234, in wrapper\n\n  File \"/usr/local/lib/python3.11/dist-packages/ipykernel/kernelbase.py\", line 261, in dispatch_shell\n\n  File \"/usr/local/lib/python3.11/dist-packages/tornado/gen.py\", line 234, in wrapper\n\n  File \"/usr/local/lib/python3.11/dist-packages/ipykernel/kernelbase.py\", line 539, in execute_request\n\n  File \"/usr/local/lib/python3.11/dist-packages/tornado/gen.py\", line 234, in wrapper\n\n  File \"/usr/local/lib/python3.11/dist-packages/ipykernel/ipkernel.py\", line 302, in do_execute\n\n  File \"/usr/local/lib/python3.11/dist-packages/ipykernel/zmqshell.py\", line 539, in run_cell\n\n  File \"/usr/local/lib/python3.11/dist-packages/IPython/core/interactiveshell.py\", line 2975, in run_cell\n\n  File \"/usr/local/lib/python3.11/dist-packages/IPython/core/interactiveshell.py\", line 3030, in _run_cell\n\n  File \"/usr/local/lib/python3.11/dist-packages/IPython/core/async_helpers.py\", line 78, in _pseudo_sync_runner\n\n  File \"/usr/local/lib/python3.11/dist-packages/IPython/core/interactiveshell.py\", line 3257, in run_cell_async\n\n  File \"/usr/local/lib/python3.11/dist-packages/IPython/core/interactiveshell.py\", line 3473, in run_ast_nodes\n\n  File \"/usr/local/lib/python3.11/dist-packages/IPython/core/interactiveshell.py\", line 3553, in run_code\n\n  File \"<ipython-input-33-a54d1f730d68>\", line 2, in <cell line: 0>\n\n  File \"/usr/local/lib/python3.11/dist-packages/keras/src/utils/traceback_utils.py\", line 117, in error_handler\n\n  File \"/usr/local/lib/python3.11/dist-packages/keras/src/backend/tensorflow/trainer.py\", line 512, in predict\n\n  File \"/usr/local/lib/python3.11/dist-packages/keras/src/backend/tensorflow/trainer.py\", line 208, in one_step_on_data_distributed\n\n  File \"/usr/local/lib/python3.11/dist-packages/keras/src/backend/tensorflow/trainer.py\", line 198, in one_step_on_data\n\n  File \"/usr/local/lib/python3.11/dist-packages/keras/src/backend/tensorflow/trainer.py\", line 96, in predict_step\n\n  File \"/usr/local/lib/python3.11/dist-packages/keras/src/utils/traceback_utils.py\", line 117, in error_handler\n\n  File \"/usr/local/lib/python3.11/dist-packages/keras/src/layers/layer.py\", line 901, in __call__\n\n  File \"/usr/local/lib/python3.11/dist-packages/keras/src/utils/traceback_utils.py\", line 117, in error_handler\n\n  File \"/usr/local/lib/python3.11/dist-packages/keras/src/ops/operation.py\", line 46, in __call__\n\n  File \"/usr/local/lib/python3.11/dist-packages/keras/src/utils/traceback_utils.py\", line 156, in error_handler\n\n  File \"/usr/local/lib/python3.11/dist-packages/keras/src/models/functional.py\", line 175, in call\n\n  File \"/usr/local/lib/python3.11/dist-packages/keras/src/ops/function.py\", line 171, in _run_through_graph\n\n  File \"/usr/local/lib/python3.11/dist-packages/keras/src/models/functional.py\", line 560, in call\n\n  File \"/usr/local/lib/python3.11/dist-packages/keras/src/utils/traceback_utils.py\", line 117, in error_handler\n\n  File \"/usr/local/lib/python3.11/dist-packages/keras/src/layers/layer.py\", line 901, in __call__\n\n  File \"/usr/local/lib/python3.11/dist-packages/keras/src/utils/traceback_utils.py\", line 117, in error_handler\n\n  File \"/usr/local/lib/python3.11/dist-packages/keras/src/ops/operation.py\", line 46, in __call__\n\n  File \"/usr/local/lib/python3.11/dist-packages/keras/src/utils/traceback_utils.py\", line 156, in error_handler\n\n  File \"/usr/local/lib/python3.11/dist-packages/keras/src/layers/core/dense.py\", line 144, in call\n\n  File \"/usr/local/lib/python3.11/dist-packages/keras/src/ops/numpy.py\", line 3445, in matmul\n\n  File \"/usr/local/lib/python3.11/dist-packages/keras/src/backend/tensorflow/numpy.py\", line 483, in matmul\n\nOOM when allocating tensor with shape[32,55,38105] and type float on /job:localhost/replica:0/task:0/device:GPU:0 by allocator GPU_0_bfc\n\t [[{{node functional_1_1/msa_to_dialect_output_1/MatMul}}]]\nHint: If you want to see a list of allocated tensors when OOM happens, add report_tensor_allocations_upon_oom to RunOptions for current allocation info. This isn't available when running in Eager mode.\n [Op:__inference_one_step_on_data_distributed_357617]"
          ]
        }
      ]
    },
    {
      "cell_type": "code",
      "source": [
        "# Evaluate the baseline model on the test set\n",
        "baseline_test_loss, baseline_test_accuracy = baseline_model.evaluate(\n",
        "    [X_test_baseline, np.zeros_like(X_test_baseline)],\n",
        "    y_test_baseline\n",
        ")\n",
        "\n",
        "# Print Baseline Test Metrics\n",
        "print(f\"Baseline Test Loss: {baseline_test_loss:.4f}\")\n",
        "print(f\"Baseline Test Accuracy: {baseline_test_accuracy:.4f}\")"
      ],
      "metadata": {
        "id": "mTmNwiL0rk2h",
        "colab": {
          "base_uri": "https://localhost:8080/",
          "height": 391
        },
        "outputId": "e1b24876-c3bf-4a3d-cffe-2f8fc6c7b0a6"
      },
      "execution_count": null,
      "outputs": [
        {
          "output_type": "error",
          "ename": "ValueError",
          "evalue": "Arguments `target` and `output` must have the same shape up until the last dimension: target.shape=(None, 52), output.shape=(None, 55, 38105)",
          "traceback": [
            "\u001b[0;31m---------------------------------------------------------------------------\u001b[0m",
            "\u001b[0;31mValueError\u001b[0m                                Traceback (most recent call last)",
            "\u001b[0;32m<ipython-input-34-0216f29d2d7f>\u001b[0m in \u001b[0;36m<cell line: 0>\u001b[0;34m()\u001b[0m\n\u001b[1;32m      1\u001b[0m \u001b[0;31m# Evaluate the baseline model on the test set\u001b[0m\u001b[0;34m\u001b[0m\u001b[0;34m\u001b[0m\u001b[0m\n\u001b[0;32m----> 2\u001b[0;31m baseline_test_loss, baseline_test_accuracy = baseline_model.evaluate(\n\u001b[0m\u001b[1;32m      3\u001b[0m     \u001b[0;34m[\u001b[0m\u001b[0mX_test_baseline\u001b[0m\u001b[0;34m,\u001b[0m \u001b[0mnp\u001b[0m\u001b[0;34m.\u001b[0m\u001b[0mzeros_like\u001b[0m\u001b[0;34m(\u001b[0m\u001b[0mX_test_baseline\u001b[0m\u001b[0;34m)\u001b[0m\u001b[0;34m]\u001b[0m\u001b[0;34m,\u001b[0m\u001b[0;34m\u001b[0m\u001b[0;34m\u001b[0m\u001b[0m\n\u001b[1;32m      4\u001b[0m     \u001b[0my_test_baseline\u001b[0m\u001b[0;34m\u001b[0m\u001b[0;34m\u001b[0m\u001b[0m\n\u001b[1;32m      5\u001b[0m )\n",
            "\u001b[0;32m/usr/local/lib/python3.11/dist-packages/keras/src/utils/traceback_utils.py\u001b[0m in \u001b[0;36merror_handler\u001b[0;34m(*args, **kwargs)\u001b[0m\n\u001b[1;32m    120\u001b[0m             \u001b[0;31m# To get the full stack trace, call:\u001b[0m\u001b[0;34m\u001b[0m\u001b[0;34m\u001b[0m\u001b[0m\n\u001b[1;32m    121\u001b[0m             \u001b[0;31m# `keras.config.disable_traceback_filtering()`\u001b[0m\u001b[0;34m\u001b[0m\u001b[0;34m\u001b[0m\u001b[0m\n\u001b[0;32m--> 122\u001b[0;31m             \u001b[0;32mraise\u001b[0m \u001b[0me\u001b[0m\u001b[0;34m.\u001b[0m\u001b[0mwith_traceback\u001b[0m\u001b[0;34m(\u001b[0m\u001b[0mfiltered_tb\u001b[0m\u001b[0;34m)\u001b[0m \u001b[0;32mfrom\u001b[0m \u001b[0;32mNone\u001b[0m\u001b[0;34m\u001b[0m\u001b[0;34m\u001b[0m\u001b[0m\n\u001b[0m\u001b[1;32m    123\u001b[0m         \u001b[0;32mfinally\u001b[0m\u001b[0;34m:\u001b[0m\u001b[0;34m\u001b[0m\u001b[0;34m\u001b[0m\u001b[0m\n\u001b[1;32m    124\u001b[0m             \u001b[0;32mdel\u001b[0m \u001b[0mfiltered_tb\u001b[0m\u001b[0;34m\u001b[0m\u001b[0;34m\u001b[0m\u001b[0m\n",
            "\u001b[0;32m/usr/local/lib/python3.11/dist-packages/keras/src/backend/tensorflow/nn.py\u001b[0m in \u001b[0;36msparse_categorical_crossentropy\u001b[0;34m(target, output, from_logits, axis)\u001b[0m\n\u001b[1;32m    657\u001b[0m     \u001b[0;32mfor\u001b[0m \u001b[0me1\u001b[0m\u001b[0;34m,\u001b[0m \u001b[0me2\u001b[0m \u001b[0;32min\u001b[0m \u001b[0mzip\u001b[0m\u001b[0;34m(\u001b[0m\u001b[0mtarget\u001b[0m\u001b[0;34m.\u001b[0m\u001b[0mshape\u001b[0m\u001b[0;34m,\u001b[0m \u001b[0moutput\u001b[0m\u001b[0;34m.\u001b[0m\u001b[0mshape\u001b[0m\u001b[0;34m[\u001b[0m\u001b[0;34m:\u001b[0m\u001b[0;34m-\u001b[0m\u001b[0;36m1\u001b[0m\u001b[0;34m]\u001b[0m\u001b[0;34m)\u001b[0m\u001b[0;34m:\u001b[0m\u001b[0;34m\u001b[0m\u001b[0;34m\u001b[0m\u001b[0m\n\u001b[1;32m    658\u001b[0m         \u001b[0;32mif\u001b[0m \u001b[0me1\u001b[0m \u001b[0;32mis\u001b[0m \u001b[0;32mnot\u001b[0m \u001b[0;32mNone\u001b[0m \u001b[0;32mand\u001b[0m \u001b[0me2\u001b[0m \u001b[0;32mis\u001b[0m \u001b[0;32mnot\u001b[0m \u001b[0;32mNone\u001b[0m \u001b[0;32mand\u001b[0m \u001b[0me1\u001b[0m \u001b[0;34m!=\u001b[0m \u001b[0me2\u001b[0m\u001b[0;34m:\u001b[0m\u001b[0;34m\u001b[0m\u001b[0;34m\u001b[0m\u001b[0m\n\u001b[0;32m--> 659\u001b[0;31m             raise ValueError(\n\u001b[0m\u001b[1;32m    660\u001b[0m                 \u001b[0;34m\"Arguments `target` and `output` must have the same shape \"\u001b[0m\u001b[0;34m\u001b[0m\u001b[0;34m\u001b[0m\u001b[0m\n\u001b[1;32m    661\u001b[0m                 \u001b[0;34m\"up until the last dimension: \"\u001b[0m\u001b[0;34m\u001b[0m\u001b[0;34m\u001b[0m\u001b[0m\n",
            "\u001b[0;31mValueError\u001b[0m: Arguments `target` and `output` must have the same shape up until the last dimension: target.shape=(None, 52), output.shape=(None, 55, 38105)"
          ]
        }
      ]
    },
    {
      "cell_type": "code",
      "source": [
        "# Evaluate the MTL model on the test set\n",
        "mtl_test_loss, mtl_dialect_to_msa_loss, mtl_msa_to_dialect_loss, mtl_classifier_loss = mtl_model.evaluate(\n",
        "    [X_test_mtl, np.zeros_like(X_test_mtl)],\n",
        "    [y_test_dialect_to_msa, y_test_msa_to_dialect, y_test_classifier]\n",
        ")\n",
        "\n",
        "# Print MTL Test Metrics\n",
        "print(f\"MTL Test Total Loss: {mtl_test_loss:.4f}\")\n",
        "print(f\"MTL Dialect-to-MSA Test Loss: {mtl_dialect_to_msa_loss:.4f}\")\n",
        "print(f\"MTL MSA-to-Dialect Test Loss: {mtl_msa_to_dialect_loss:.4f}\")\n",
        "print(f\"MTL Classifier Test Loss: {mtl_classifier_loss:.4f}\")"
      ],
      "metadata": {
        "id": "wXX2eFNHrswg"
      },
      "execution_count": null,
      "outputs": []
    },
    {
      "cell_type": "code",
      "source": [
        "# Plot BLEU Scores Comparison\n",
        "plt.bar([\"Baseline BLEU\", \"MTL BLEU\"], [baseline_test_bleu, mtl_test_bleu], color=['blue', 'green'])\n",
        "plt.title(\"Test Set BLEU Score Comparison\")\n",
        "plt.ylabel(\"BLEU Score\")\n",
        "plt.show()"
      ],
      "metadata": {
        "id": "vfud1GstXGdC"
      },
      "execution_count": null,
      "outputs": []
    },
    {
      "cell_type": "code",
      "source": [],
      "metadata": {
        "id": "NMTlGvk5prIp"
      },
      "execution_count": null,
      "outputs": []
    }
  ]
}