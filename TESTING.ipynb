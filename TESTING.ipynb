{
  "nbformat": 4,
  "nbformat_minor": 0,
  "metadata": {
    "colab": {
      "provenance": [],
      "gpuType": "T4"
    },
    "kernelspec": {
      "name": "python3",
      "display_name": "Python 3"
    },
    "language_info": {
      "name": "python"
    },
    "accelerator": "GPU"
  },
  "cells": [
    {
      "cell_type": "code",
      "source": [
        "import pandas as pd"
      ],
      "metadata": {
        "id": "SVSCXcaFNY4b"
      },
      "execution_count": 1,
      "outputs": []
    },
    {
      "cell_type": "code",
      "execution_count": 2,
      "metadata": {
        "colab": {
          "base_uri": "https://localhost:8080/"
        },
        "id": "iNtN8PdpNFOP",
        "outputId": "01461404-283e-4792-a598-a3f47e922591"
      },
      "outputs": [
        {
          "output_type": "stream",
          "name": "stdout",
          "text": [
            "Dataset 1 Sheets: ['Feuil1', 'Feuil2', 'Feuil3']\n",
            "Preview of Dataset 1 (First Sheet):\n",
            "                                                 MSA  \\\n",
            "0   تعالت أصوات الناس بالبكاء،  بدأت أتحدث بانفعا...   \n",
            "1  فبكيت،  سكت الناس جميعا و أنا ذهلت من نفسي ، ك...   \n",
            "2  قام الجميع يسلمون علي و يتحدثون معي ، نصفه بكا...   \n",
            "3       دعينا للعشاء و كان العشاء يكفي جميع المدعوين   \n",
            "4              ﺃمضيت ﺃياما جميلة لن أنساها طوال عمري   \n",
            "\n",
            "                                                 ALG  \\\n",
            "0   عادو الناس يتباكاو بديت نهدر من قلبي تقول نهد...   \n",
            "1   بكيت الناس كامل سكتو تخلعت في روحي تقول كنت ننوم   \n",
            "2  ناضو ﭭﺎع سلمو عليا و يهدرو معايا نص بكا و نص ل...   \n",
            "3         عرضونا للعشا و كان لعشا يكفي ليزاﻧڢيتي ﭭﺎع   \n",
            "4              جوزت ايامات روعة ما ننساهاش طول حياتي   \n",
            "\n",
            "                                                 ANB  \\\n",
            "0   عادوا الناس يتباكاو بديت نهدر بغش و ڨول عليا ...   \n",
            "1   بكيت الناس كل سكتوا تشوكيت في روحي ڨول عليا نحلم   \n",
            "2  ناضوا كل سلموا عليا و يهدروا معايا نصه بكا و ن...   \n",
            "3         عرضونا للعشا و كان العشا يكفي ليزاﻧڢيتي كل   \n",
            "4          ﻋﭭﺒﺖ ايامات على الكيف ما ننساهاش طول عمري   \n",
            "\n",
            "                                                 TUN  \\\n",
            "0   البكاء و الحس كثر وليت نحكي بإنفعال كيني نهدي...   \n",
            "1      بكيت وسكتوا الناس الكل وأنا شخست كأنني في حلم   \n",
            "2  قاموا الناس الكل يسلموا عليا ويحكيوا معايا كلا...   \n",
            "3       إستدعاونا للعشاء والعشاء كان يكفي الناس الكل   \n",
            "4                  عديت أيامات حلوة مننسهاش طول عمري   \n",
            "\n",
            "                                                 PAL  \\\n",
            "0   صاروا الناس يصيحوا بصوت عالي وبديت احكي وانا ...   \n",
            "1  صرت اعيط والناس سكتوا كلهم و أنا صرت مذهول من ...   \n",
            "2  قاموا كلهم يسلموا عليا و بيحكوا معي نصه عياط و...   \n",
            "3    انعزمنا عالعشاء و كان العشاء بكفي لكل المعزومين   \n",
            "4                قضيت أيام جميلة مش حانساها طول عمري   \n",
            "\n",
            "                                                 SYR  \\\n",
            "0   علي صوت الناس بالبكي و بلّشت أحكي بعصبية و كأ...   \n",
            "1  فبكيت سكتت العالم كلا و أنا استغربت من حالي و ...   \n",
            "2  قاموا كلّون يسلّموا عليي و يحاكوني نصو بكي و ن...   \n",
            "3       انعزمنا عالعشا و كان العشا بيكفي كل المعازيم   \n",
            "4                     مضيت أيام حلوة بعمري ما بنساها   \n",
            "\n",
            "                                                 MAR  \n",
            "0  ناس بداو تيتباكاو وبديت تنهدر ب نفعل بحال إلى ...  \n",
            "1  بكيت والناس كلهم سكتو وانا جاني لعجب فراسي بحا...  \n",
            "2  ناض كلشي كيسلم عليا أو كيهدرو معايا نص بكى ونص...  \n",
            "3        تعردنا لعشا و كان لعشا كافي لكلشي المعرودين  \n",
            "4                دوزنا يامات زوينة ما عمري ما ننساها  \n",
            "\n",
            "Dataset 1 Info:\n",
            "<class 'pandas.core.frame.DataFrame'>\n",
            "RangeIndex: 6412 entries, 0 to 6411\n",
            "Data columns (total 7 columns):\n",
            " #   Column  Non-Null Count  Dtype \n",
            "---  ------  --------------  ----- \n",
            " 0   MSA     6412 non-null   object\n",
            " 1   ALG     6412 non-null   object\n",
            " 2   ANB     6412 non-null   object\n",
            " 3   TUN     6412 non-null   object\n",
            " 4   PAL     6412 non-null   object\n",
            " 5   SYR     6412 non-null   object\n",
            " 6   MAR     6412 non-null   object\n",
            "dtypes: object(7)\n",
            "memory usage: 350.8+ KB\n"
          ]
        }
      ],
      "source": [
        "file_path_1 = '/content/PADIC-31-05SansFranSansAng.xlsx'\n",
        "\n",
        "# Load the Excel file and get sheet names\n",
        "dataset_1 = pd.ExcelFile(file_path_1)\n",
        "print(\"Dataset 1 Sheets:\", dataset_1.sheet_names)\n",
        "\n",
        "# Parse and preview the first sheet (replace 0 with the desired sheet index)\n",
        "df1 = dataset_1.parse(sheet_name=0)\n",
        "print(\"Preview of Dataset 1 (First Sheet):\")\n",
        "print(df1.head())\n",
        "\n",
        "# Display basic info\n",
        "print(\"\\nDataset 1 Info:\")\n",
        "df1.info()"
      ]
    },
    {
      "cell_type": "code",
      "source": [
        "# Add sentence length columns for each language\n",
        "df1['MSA_Length'] = df1['MSA'].apply(lambda x: len(str(x).split()))\n",
        "df1['ALG_Length'] = df1['ALG'].apply(lambda x: len(str(x).split()))\n",
        "df1['ANB_Length'] = df1['ANB'].apply(lambda x: len(str(x).split()))\n",
        "df1['TUN_Length'] = df1['TUN'].apply(lambda x: len(str(x).split()))\n",
        "df1['PAL_Length'] = df1['PAL'].apply(lambda x: len(str(x).split()))\n",
        "df1['SYR_Length'] = df1['SYR'].apply(lambda x: len(str(x).split()))\n",
        "df1['MAR_Length'] = df1['MAR'].apply(lambda x: len(str(x).split()))\n",
        "\n",
        "# Verify the new columns\n",
        "print(\"Preview of Dataset with Length Columns:\")\n",
        "print(df1.head())"
      ],
      "metadata": {
        "colab": {
          "base_uri": "https://localhost:8080/"
        },
        "id": "JtcvBwweNXu7",
        "outputId": "c4e45bf4-0452-4bf0-f3a9-a7f636f062b3"
      },
      "execution_count": 3,
      "outputs": [
        {
          "output_type": "stream",
          "name": "stdout",
          "text": [
            "Preview of Dataset with Length Columns:\n",
            "                                                 MSA  \\\n",
            "0   تعالت أصوات الناس بالبكاء،  بدأت أتحدث بانفعا...   \n",
            "1  فبكيت،  سكت الناس جميعا و أنا ذهلت من نفسي ، ك...   \n",
            "2  قام الجميع يسلمون علي و يتحدثون معي ، نصفه بكا...   \n",
            "3       دعينا للعشاء و كان العشاء يكفي جميع المدعوين   \n",
            "4              ﺃمضيت ﺃياما جميلة لن أنساها طوال عمري   \n",
            "\n",
            "                                                 ALG  \\\n",
            "0   عادو الناس يتباكاو بديت نهدر من قلبي تقول نهد...   \n",
            "1   بكيت الناس كامل سكتو تخلعت في روحي تقول كنت ننوم   \n",
            "2  ناضو ﭭﺎع سلمو عليا و يهدرو معايا نص بكا و نص ل...   \n",
            "3         عرضونا للعشا و كان لعشا يكفي ليزاﻧڢيتي ﭭﺎع   \n",
            "4              جوزت ايامات روعة ما ننساهاش طول حياتي   \n",
            "\n",
            "                                                 ANB  \\\n",
            "0   عادوا الناس يتباكاو بديت نهدر بغش و ڨول عليا ...   \n",
            "1   بكيت الناس كل سكتوا تشوكيت في روحي ڨول عليا نحلم   \n",
            "2  ناضوا كل سلموا عليا و يهدروا معايا نصه بكا و ن...   \n",
            "3         عرضونا للعشا و كان العشا يكفي ليزاﻧڢيتي كل   \n",
            "4          ﻋﭭﺒﺖ ايامات على الكيف ما ننساهاش طول عمري   \n",
            "\n",
            "                                                 TUN  \\\n",
            "0   البكاء و الحس كثر وليت نحكي بإنفعال كيني نهدي...   \n",
            "1      بكيت وسكتوا الناس الكل وأنا شخست كأنني في حلم   \n",
            "2  قاموا الناس الكل يسلموا عليا ويحكيوا معايا كلا...   \n",
            "3       إستدعاونا للعشاء والعشاء كان يكفي الناس الكل   \n",
            "4                  عديت أيامات حلوة مننسهاش طول عمري   \n",
            "\n",
            "                                                 PAL  \\\n",
            "0   صاروا الناس يصيحوا بصوت عالي وبديت احكي وانا ...   \n",
            "1  صرت اعيط والناس سكتوا كلهم و أنا صرت مذهول من ...   \n",
            "2  قاموا كلهم يسلموا عليا و بيحكوا معي نصه عياط و...   \n",
            "3    انعزمنا عالعشاء و كان العشاء بكفي لكل المعزومين   \n",
            "4                قضيت أيام جميلة مش حانساها طول عمري   \n",
            "\n",
            "                                                 SYR  \\\n",
            "0   علي صوت الناس بالبكي و بلّشت أحكي بعصبية و كأ...   \n",
            "1  فبكيت سكتت العالم كلا و أنا استغربت من حالي و ...   \n",
            "2  قاموا كلّون يسلّموا عليي و يحاكوني نصو بكي و ن...   \n",
            "3       انعزمنا عالعشا و كان العشا بيكفي كل المعازيم   \n",
            "4                     مضيت أيام حلوة بعمري ما بنساها   \n",
            "\n",
            "                                                 MAR  MSA_Length  ALG_Length  \\\n",
            "0  ناس بداو تيتباكاو وبديت تنهدر ب نفعل بحال إلى ...          12          10   \n",
            "1  بكيت والناس كلهم سكتو وانا جاني لعجب فراسي بحا...          13          10   \n",
            "2  ناض كلشي كيسلم عليا أو كيهدرو معايا نص بكى ونص...          15          14   \n",
            "3        تعردنا لعشا و كان لعشا كافي لكلشي المعرودين           8           8   \n",
            "4                دوزنا يامات زوينة ما عمري ما ننساها           7           7   \n",
            "\n",
            "   ANB_Length  TUN_Length  PAL_Length  SYR_Length  MAR_Length  \n",
            "0          12          11          13          13          11  \n",
            "1          10           9          13          12          11  \n",
            "2          14          12          14          15          12  \n",
            "3           8           7           8           8           8  \n",
            "4           8           6           7           6           7  \n"
          ]
        }
      ]
    },
    {
      "cell_type": "code",
      "source": [
        "# Prepare dataset for Dialect-to-MSA translation\n",
        "dialect_to_msa_data = []\n",
        "\n",
        "# Loop through each dialect column\n",
        "for dialect in ['ALG', 'ANB', 'TUN', 'PAL', 'SYR', 'MAR']:\n",
        "    subset = df1[[dialect, 'MSA']].rename(columns={dialect: 'Input', 'MSA': 'Target'})\n",
        "    subset['Dialect'] = dialect  # Add a column for dialect name\n",
        "    dialect_to_msa_data.append(subset)\n",
        "\n",
        "# Combine all dialect data\n",
        "dialect_to_msa_df = pd.concat(dialect_to_msa_data).reset_index(drop=True)\n",
        "\n",
        "print(\"Preview of Dialect-to-MSA Data:\")\n",
        "print(dialect_to_msa_df.head())"
      ],
      "metadata": {
        "colab": {
          "base_uri": "https://localhost:8080/"
        },
        "id": "Ossq00llOjWP",
        "outputId": "db8b74e4-69ad-4c96-f6c7-179202db85a1"
      },
      "execution_count": 4,
      "outputs": [
        {
          "output_type": "stream",
          "name": "stdout",
          "text": [
            "Preview of Dialect-to-MSA Data:\n",
            "                                               Input  \\\n",
            "0   عادو الناس يتباكاو بديت نهدر من قلبي تقول نهد...   \n",
            "1   بكيت الناس كامل سكتو تخلعت في روحي تقول كنت ننوم   \n",
            "2  ناضو ﭭﺎع سلمو عليا و يهدرو معايا نص بكا و نص ل...   \n",
            "3         عرضونا للعشا و كان لعشا يكفي ليزاﻧڢيتي ﭭﺎع   \n",
            "4              جوزت ايامات روعة ما ننساهاش طول حياتي   \n",
            "\n",
            "                                              Target Dialect  \n",
            "0   تعالت أصوات الناس بالبكاء،  بدأت أتحدث بانفعا...     ALG  \n",
            "1  فبكيت،  سكت الناس جميعا و أنا ذهلت من نفسي ، ك...     ALG  \n",
            "2  قام الجميع يسلمون علي و يتحدثون معي ، نصفه بكا...     ALG  \n",
            "3       دعينا للعشاء و كان العشاء يكفي جميع المدعوين     ALG  \n",
            "4              ﺃمضيت ﺃياما جميلة لن أنساها طوال عمري     ALG  \n"
          ]
        }
      ]
    },
    {
      "cell_type": "code",
      "source": [
        "# Prepare data for dialect classification\n",
        "classification_data = []\n",
        "\n",
        "# Loop through each dialect column\n",
        "for dialect in ['ALG', 'ANB', 'TUN', 'PAL', 'SYR', 'MAR']:\n",
        "    subset = df1[[dialect]].rename(columns={dialect: 'Text'})\n",
        "    subset['Dialect_Label'] = dialect  # Assign a label to each dialect\n",
        "    classification_data.append(subset)\n",
        "\n",
        "# Combine all dialect data\n",
        "classification_df = pd.concat(classification_data).reset_index(drop=True)\n",
        "\n",
        "print(\"Preview of Dialect Classification Data:\")\n",
        "print(classification_df.head())"
      ],
      "metadata": {
        "colab": {
          "base_uri": "https://localhost:8080/"
        },
        "id": "K0RfkLhvPjtw",
        "outputId": "4a3899a2-b45f-4852-a918-2373da111272"
      },
      "execution_count": 5,
      "outputs": [
        {
          "output_type": "stream",
          "name": "stdout",
          "text": [
            "Preview of Dialect Classification Data:\n",
            "                                                Text Dialect_Label\n",
            "0   عادو الناس يتباكاو بديت نهدر من قلبي تقول نهد...           ALG\n",
            "1   بكيت الناس كامل سكتو تخلعت في روحي تقول كنت ننوم           ALG\n",
            "2  ناضو ﭭﺎع سلمو عليا و يهدرو معايا نص بكا و نص ل...           ALG\n",
            "3         عرضونا للعشا و كان لعشا يكفي ليزاﻧڢيتي ﭭﺎع           ALG\n",
            "4              جوزت ايامات روعة ما ننساهاش طول حياتي           ALG\n"
          ]
        }
      ]
    },
    {
      "cell_type": "code",
      "source": [
        "from tensorflow.keras.preprocessing.text import Tokenizer\n",
        "from tensorflow.keras.preprocessing.sequence import pad_sequences\n",
        "\n",
        "# Initialize tokenizer\n",
        "tokenizer = Tokenizer()\n",
        "\n",
        "# Fit tokenizer on all text data\n",
        "all_text = dialect_to_msa_df['Input'].tolist() + dialect_to_msa_df['Target'].tolist()\n",
        "tokenizer.fit_on_texts(all_text)\n",
        "\n",
        "# Tokenize and pad sequences\n",
        "input_sequences = tokenizer.texts_to_sequences(dialect_to_msa_df['Input'])\n",
        "target_sequences = tokenizer.texts_to_sequences(dialect_to_msa_df['Target'])\n",
        "\n",
        "input_padded = pad_sequences(input_sequences, padding='post')\n",
        "target_padded = pad_sequences(target_sequences, padding='post')\n",
        "\n",
        "# Verify tokenized and padded data\n",
        "print(\"Example Input Padded Sequence:\", input_padded[0])\n",
        "print(\"Example Target Padded Sequence:\", target_padded[0])"
      ],
      "metadata": {
        "colab": {
          "base_uri": "https://localhost:8080/"
        },
        "id": "uvj7qqvPPmT9",
        "outputId": "71b03245-2676-4d58-be6e-650922f8d915"
      },
      "execution_count": 6,
      "outputs": [
        {
          "output_type": "stream",
          "name": "stdout",
          "text": [
            "Example Input Padded Sequence: [14149   125 17520   913  1407     5  1636    78 15455 22768     0     0\n",
            "     0     0     0     0     0     0     0     0     0     0     0     0\n",
            "     0     0     0     0     0     0     0     0     0     0     0     0\n",
            "     0     0     0     0     0     0     0     0     0     0     0     0\n",
            "     0     0     0     0     0     0     0]\n",
            "Example Target Padded Sequence: [10074 10075   125 10076   499  1832 10077     1  3414 10078     2   125\n",
            "     0     0     0     0     0     0     0     0     0     0     0     0\n",
            "     0     0     0     0     0     0     0     0     0     0     0     0\n",
            "     0     0     0     0     0     0     0     0     0     0     0     0\n",
            "     0     0     0     0]\n"
          ]
        }
      ]
    },
    {
      "cell_type": "code",
      "source": [
        "from sklearn.model_selection import train_test_split\n",
        "\n",
        "# Split data into training (80%) and temp set (20%)\n",
        "X_temp, X_test, y_temp, y_test = train_test_split(\n",
        "    input_padded, target_padded, test_size=0.2, random_state=42\n",
        ")\n",
        "\n",
        "# Further split the temp set into validation (50%) and test (50%)\n",
        "X_train, X_val, y_train, y_val = train_test_split(\n",
        "    X_temp, y_temp, test_size=0.5, random_state=42\n",
        ")\n",
        "\n",
        "# Verify the split\n",
        "print(f\"Training samples: {len(X_train)}, Validation samples: {len(X_val)}, Test samples: {len(X_test)}\")"
      ],
      "metadata": {
        "colab": {
          "base_uri": "https://localhost:8080/"
        },
        "id": "GKiIj_fvQDPh",
        "outputId": "fc12a6cf-528c-408f-b696-1cc4ca4d9472"
      },
      "execution_count": 7,
      "outputs": [
        {
          "output_type": "stream",
          "name": "stdout",
          "text": [
            "Training samples: 15388, Validation samples: 15389, Test samples: 7695\n"
          ]
        }
      ]
    },
    {
      "cell_type": "code",
      "source": [
        "# Prepare data for Dialect-to-MSA translation\n",
        "X_train_baseline = X_train  # Training input (dialects)\n",
        "y_train_baseline = y_train  # Training target (MSA)\n",
        "\n",
        "# Validation data\n",
        "X_val_baseline = X_val\n",
        "y_val_baseline = y_val\n",
        "\n",
        "# Test data\n",
        "X_test_baseline = X_test\n",
        "y_test_baseline = y_test\n",
        "\n",
        "# Verify the prepared data\n",
        "print(f\"Baseline Training Input: {X_train_baseline.shape}, Baseline Training Target: {y_train_baseline.shape}\")\n",
        "print(f\"Baseline Validation Input: {X_val_baseline.shape}, Baseline Validation Target: {y_val_baseline.shape}\")\n",
        "print(f\"Baseline Test Input: {X_test_baseline.shape}, Baseline Test Target: {y_test_baseline.shape}\")"
      ],
      "metadata": {
        "colab": {
          "base_uri": "https://localhost:8080/"
        },
        "id": "9A2o0-CuQJ3M",
        "outputId": "164c5e6e-19c2-4d48-ab95-9be1476ba64c"
      },
      "execution_count": 8,
      "outputs": [
        {
          "output_type": "stream",
          "name": "stdout",
          "text": [
            "Baseline Training Input: (15388, 55), Baseline Training Target: (15388, 52)\n",
            "Baseline Validation Input: (15389, 55), Baseline Validation Target: (15389, 52)\n",
            "Baseline Test Input: (7695, 55), Baseline Test Target: (7695, 52)\n"
          ]
        }
      ]
    },
    {
      "cell_type": "code",
      "source": [
        "# Training data for MTL model\n",
        "X_train_mtl = X_train\n",
        "y_train_dialect_to_msa = y_train  # Dialect-to-MSA target\n",
        "y_train_msa_to_dialect = y_train  # MSA-to-Dialect target (mirrored)\n",
        "y_train_classifier = classification_df['Dialect_Label'].iloc[:len(X_train)].values  # Classifier labels as array\n",
        "\n",
        "# Validation data for MTL model\n",
        "X_val_mtl = X_val\n",
        "y_val_dialect_to_msa = y_val\n",
        "y_val_msa_to_dialect = y_val\n",
        "y_val_classifier = classification_df['Dialect_Label'].iloc[len(X_train):len(X_train) + len(X_val)].values\n",
        "\n",
        "# Test data for MTL model\n",
        "X_test_mtl = X_test\n",
        "y_test_dialect_to_msa = y_test\n",
        "y_test_msa_to_dialect = y_test\n",
        "y_test_classifier = classification_df['Dialect_Label'].iloc[len(X_train) + len(X_val):].values\n",
        "\n",
        "# Verify splits for MTL\n",
        "print(f\"MTL Training Input: {X_train_mtl.shape}\")\n",
        "print(f\"MTL Validation Input: {X_val_mtl.shape}\")\n",
        "print(f\"MTL Test Input: {X_test_mtl.shape}\")\n",
        "print(f\"MTL Training Target (Dialect-to-MSA): {y_train_dialect_to_msa.shape}\")\n",
        "print(f\"MTL Validation Target (Dialect-to-MSA): {y_val_dialect_to_msa.shape}\")\n",
        "print(f\"MTL Test Target (Dialect-to-MSA): {y_test_dialect_to_msa.shape}\")\n",
        "print(f\"MTL Classifier Training Target Shape: {y_train_classifier.shape}\")"
      ],
      "metadata": {
        "colab": {
          "base_uri": "https://localhost:8080/"
        },
        "id": "WSshgVPRVhLA",
        "outputId": "508edffd-c8f9-4091-f66c-9572cc598222"
      },
      "execution_count": 9,
      "outputs": [
        {
          "output_type": "stream",
          "name": "stdout",
          "text": [
            "MTL Training Input: (15388, 55)\n",
            "MTL Validation Input: (15389, 55)\n",
            "MTL Test Input: (7695, 55)\n",
            "MTL Training Target (Dialect-to-MSA): (15388, 52)\n",
            "MTL Validation Target (Dialect-to-MSA): (15389, 52)\n",
            "MTL Test Target (Dialect-to-MSA): (7695, 52)\n",
            "MTL Classifier Training Target Shape: (15388,)\n"
          ]
        }
      ]
    },
    {
      "cell_type": "code",
      "source": [
        "import numpy as np"
      ],
      "metadata": {
        "id": "CcVjKfZybA1o"
      },
      "execution_count": 10,
      "outputs": []
    },
    {
      "cell_type": "code",
      "source": [
        "# Combined Inputs and Outputs for MTL Model\n",
        "\n",
        "# Training Data\n",
        "multitask_train_inputs = {\n",
        "    \"encoder_input\": X_train_mtl,  # Shared encoder input\n",
        "    \"decoder_dialect_to_msa_input\": np.concatenate(\n",
        "        [np.zeros((y_train_dialect_to_msa.shape[0], 1)), y_train_dialect_to_msa[:, :-1]], axis=1\n",
        "    ),\n",
        "}\n",
        "\n",
        "multitask_train_outputs = {\n",
        "    \"dialect_to_msa_output\": y_train_dialect_to_msa,  # Dialect-to-MSA output\n",
        "    \"msa_to_dialect_output\": y_train_msa_to_dialect,  # MSA-to-Dialect output\n",
        "    \"dialect_classifier_output\": y_train_classifier,  # Classification output\n",
        "}\n",
        "\n",
        "# Validation Data\n",
        "multitask_val_inputs = {\n",
        "    \"encoder_input\": X_val_mtl,  # Shared encoder input\n",
        "    \"decoder_dialect_to_msa_input\": np.concatenate(\n",
        "        [np.zeros((y_val_dialect_to_msa.shape[0], 1)), y_val_dialect_to_msa[:, :-1]], axis=1\n",
        "    ),\n",
        "}\n",
        "\n",
        "multitask_val_outputs = {\n",
        "    \"dialect_to_msa_output\": y_val_dialect_to_msa,  # Dialect-to-MSA output\n",
        "    \"msa_to_dialect_output\": y_val_msa_to_dialect,  # MSA-to-Dialect output\n",
        "    \"dialect_classifier_output\": y_val_classifier,  # Classification output\n",
        "}\n",
        "\n",
        "# Test Data\n",
        "multitask_test_inputs = {\n",
        "    \"encoder_input\": X_test_mtl,  # Shared encoder input\n",
        "    \"decoder_dialect_to_msa_input\": np.concatenate(\n",
        "        [np.zeros((y_test_dialect_to_msa.shape[0], 1)), y_test_dialect_to_msa[:, :-1]], axis=1\n",
        "    ),\n",
        "}\n",
        "\n",
        "multitask_test_outputs = {\n",
        "    \"dialect_to_msa_output\": y_test_dialect_to_msa,  # Dialect-to-MSA output\n",
        "    \"msa_to_dialect_output\": y_test_msa_to_dialect,  # MSA-to-Dialect output\n",
        "    \"dialect_classifier_output\": y_test_classifier,  # Classification output\n",
        "}\n"
      ],
      "metadata": {
        "id": "Efn2vdccVj9D"
      },
      "execution_count": 11,
      "outputs": []
    },
    {
      "cell_type": "code",
      "source": [
        "print(f\"Training Input Shape: {multitask_train_inputs['encoder_input'].shape}\")\n",
        "print(f\"Validation Input Shape: {multitask_val_inputs['encoder_input'].shape}\")\n",
        "print(f\"Test Input Shape: {multitask_test_inputs['encoder_input'].shape}\")\n",
        "print(f\"Training Output Shape (Dialect-to-MSA): {multitask_train_outputs['dialect_to_msa_output'].shape}\")\n",
        "print(f\"Validation Output Shape (Dialect-to-MSA): {multitask_val_outputs['dialect_to_msa_output'].shape}\")\n",
        "print(f\"Test Output Shape (Dialect-to-MSA): {multitask_test_outputs['dialect_to_msa_output'].shape}\")\n"
      ],
      "metadata": {
        "colab": {
          "base_uri": "https://localhost:8080/"
        },
        "id": "1_4S1J_odk2L",
        "outputId": "9cac499e-840f-4d71-ad88-901f7da4e61c"
      },
      "execution_count": 12,
      "outputs": [
        {
          "output_type": "stream",
          "name": "stdout",
          "text": [
            "Training Input Shape: (15388, 55)\n",
            "Validation Input Shape: (15389, 55)\n",
            "Test Input Shape: (7695, 55)\n",
            "Training Output Shape (Dialect-to-MSA): (15388, 52)\n",
            "Validation Output Shape (Dialect-to-MSA): (15389, 52)\n",
            "Test Output Shape (Dialect-to-MSA): (7695, 52)\n"
          ]
        }
      ]
    },
    {
      "cell_type": "code",
      "source": [
        "print(\"Encoder Input Type:\", multitask_train_inputs[\"encoder_input\"].dtype)\n",
        "print(\"Decoder Input Type:\", multitask_train_inputs[\"decoder_dialect_to_msa_input\"].dtype)"
      ],
      "metadata": {
        "colab": {
          "base_uri": "https://localhost:8080/"
        },
        "id": "UwKEIsTayASn",
        "outputId": "62dd416a-e5c9-47be-a8c2-515b1c26f478"
      },
      "execution_count": 13,
      "outputs": [
        {
          "output_type": "stream",
          "name": "stdout",
          "text": [
            "Encoder Input Type: int32\n",
            "Decoder Input Type: float64\n"
          ]
        }
      ]
    },
    {
      "cell_type": "code",
      "source": [
        "# Convert inputs and outputs to numpy arrays\n",
        "multitask_train_inputs[\"encoder_input\"] = np.array(multitask_train_inputs[\"encoder_input\"], dtype=np.float32)\n",
        "multitask_train_inputs[\"decoder_dialect_to_msa_input\"] = np.array(multitask_train_inputs[\"decoder_dialect_to_msa_input\"], dtype=np.float32)\n",
        "\n",
        "multitask_train_outputs[\"dialect_to_msa_output\"] = np.array(multitask_train_outputs[\"dialect_to_msa_output\"], dtype=np.int32)\n",
        "multitask_train_outputs[\"msa_to_dialect_output\"] = np.array(multitask_train_outputs[\"msa_to_dialect_output\"], dtype=np.int32)"
      ],
      "metadata": {
        "id": "PWUKz4SdyFs3"
      },
      "execution_count": 14,
      "outputs": []
    },
    {
      "cell_type": "code",
      "source": [
        "from sklearn.preprocessing import LabelEncoder\n",
        "import numpy as np\n",
        "\n",
        "# Combine all unique labels across training, validation, and test sets\n",
        "all_labels = np.unique(\n",
        "    np.concatenate([y_train_classifier, y_val_classifier, y_test_classifier])\n",
        ")\n",
        "\n",
        "# Fit LabelEncoder on all unique labels\n",
        "label_encoder = LabelEncoder()\n",
        "label_encoder.fit(all_labels)\n",
        "\n",
        "# Transform labels for all sets\n",
        "y_train_classifier_encoded = label_encoder.transform(y_train_classifier)\n",
        "y_val_classifier_encoded = label_encoder.transform(y_val_classifier)\n",
        "y_test_classifier_encoded = label_encoder.transform(y_test_classifier)\n",
        "\n",
        "# Update multitask outputs with encoded classifier labels\n",
        "multitask_train_outputs[\"dialect_classifier_output\"] = y_train_classifier_encoded\n",
        "multitask_val_outputs[\"dialect_classifier_output\"] = y_val_classifier_encoded\n",
        "multitask_test_outputs[\"dialect_classifier_output\"] = y_test_classifier_encoded\n",
        "\n",
        "# Verify the encoding process\n",
        "print(\"Unique Labels in Training:\", np.unique(y_train_classifier_encoded))\n",
        "print(\"Unique Labels in Validation:\", np.unique(y_val_classifier_encoded))\n",
        "print(\"Unique Labels in Test:\", np.unique(y_test_classifier_encoded))"
      ],
      "metadata": {
        "colab": {
          "base_uri": "https://localhost:8080/"
        },
        "id": "nwVg9cUMyRVH",
        "outputId": "997d21de-98c8-47a8-90b6-29ddd23e43c8"
      },
      "execution_count": 15,
      "outputs": [
        {
          "output_type": "stream",
          "name": "stdout",
          "text": [
            "Unique Labels in Training: [0 1 5]\n",
            "Unique Labels in Validation: [3 4 5]\n",
            "Unique Labels in Test: [2 4]\n"
          ]
        }
      ]
    },
    {
      "cell_type": "code",
      "source": [
        "# Ensure encoder input is tokenized and padded\n",
        "multitask_train_inputs[\"encoder_input\"] = np.array(multitask_train_inputs[\"encoder_input\"], dtype=\"int32\")\n",
        "\n",
        "# Ensure decoder input is tokenized and padded\n",
        "multitask_train_inputs[\"decoder_dialect_to_msa_input\"] = np.array(multitask_train_inputs[\"decoder_dialect_to_msa_input\"], dtype=\"int32\")"
      ],
      "metadata": {
        "id": "ESyJD3heeT3h"
      },
      "execution_count": 16,
      "outputs": []
    },
    {
      "cell_type": "code",
      "source": [
        "# Ensure all labels are strings\n",
        "y_train_classifier = y_train_classifier.astype(str)\n",
        "y_val_classifier = y_val_classifier.astype(str)\n",
        "y_test_classifier = y_test_classifier.astype(str)\n",
        "\n",
        "# Combine all unique labels across datasets\n",
        "all_labels = np.unique(np.concatenate([y_train_classifier, y_val_classifier, y_test_classifier]))\n",
        "\n",
        "# Fit LabelEncoder on all unique labels\n",
        "label_encoder = LabelEncoder()\n",
        "label_encoder.fit(all_labels)\n",
        "\n",
        "# Transform labels for training, validation, and test sets\n",
        "y_train_classifier = label_encoder.transform(y_train_classifier)\n",
        "y_val_classifier = label_encoder.transform(y_val_classifier)\n",
        "y_test_classifier = label_encoder.transform(y_test_classifier)\n",
        "\n",
        "# Update multitask outputs\n",
        "multitask_train_outputs[\"dialect_classifier_output\"] = y_train_classifier\n",
        "multitask_val_outputs[\"dialect_classifier_output\"] = y_val_classifier\n",
        "multitask_test_outputs[\"dialect_classifier_output\"] = y_test_classifier\n"
      ],
      "metadata": {
        "id": "jzweLFvae1G9"
      },
      "execution_count": 17,
      "outputs": []
    },
    {
      "cell_type": "code",
      "source": [
        "# Check the unique labels after encoding\n",
        "print(\"Unique Encoded Labels (Training):\", np.unique(y_train_classifier))\n",
        "print(\"Unique Encoded Labels (Validation):\", np.unique(y_val_classifier))\n",
        "print(\"Unique Encoded Labels (Test):\", np.unique(y_test_classifier))\n",
        "\n",
        "# Check the mapping of labels\n",
        "print(\"Label Mapping:\", dict(zip(label_encoder.classes_, label_encoder.transform(label_encoder.classes_))))"
      ],
      "metadata": {
        "id": "LlTrmiBEfBRc",
        "colab": {
          "base_uri": "https://localhost:8080/"
        },
        "outputId": "da5b3861-8643-4199-da87-c3ccdc2c49c8"
      },
      "execution_count": 18,
      "outputs": [
        {
          "output_type": "stream",
          "name": "stdout",
          "text": [
            "Unique Encoded Labels (Training): [0 1 5]\n",
            "Unique Encoded Labels (Validation): [3 4 5]\n",
            "Unique Encoded Labels (Test): [2 4]\n",
            "Label Mapping: {'ALG': 0, 'ANB': 1, 'MAR': 2, 'PAL': 3, 'SYR': 4, 'TUN': 5}\n"
          ]
        }
      ]
    },
    {
      "cell_type": "code",
      "source": [
        "from google.colab import drive\n",
        "drive.mount('/content/drive')"
      ],
      "metadata": {
        "colab": {
          "base_uri": "https://localhost:8080/"
        },
        "id": "wNMaflfKGAuI",
        "outputId": "84874fb6-d695-403a-cd31-eb2986e56193"
      },
      "execution_count": 19,
      "outputs": [
        {
          "output_type": "stream",
          "name": "stdout",
          "text": [
            "Drive already mounted at /content/drive; to attempt to forcibly remount, call drive.mount(\"/content/drive\", force_remount=True).\n"
          ]
        }
      ]
    },
    {
      "cell_type": "code",
      "source": [
        "from tensorflow.keras.models import load_model\n",
        "\n",
        "# Load the baseline model from Drive\n",
        "baseline_model = load_model('/content/drive/My Drive/baseline_model.h5')\n",
        "print(\"Baseline model loaded from Google Drive!\")\n",
        "\n",
        "# Load the MTL model from Drive\n",
        "mtl_model = load_model('/content/drive/My Drive/mtl_model.h5')\n",
        "print(\"MTL model loaded from Google Drive!\")"
      ],
      "metadata": {
        "colab": {
          "base_uri": "https://localhost:8080/"
        },
        "id": "blTPS4F8GEHx",
        "outputId": "a1860aba-9dbe-406f-d57a-a0fb8f62f7f7"
      },
      "execution_count": 20,
      "outputs": [
        {
          "output_type": "stream",
          "name": "stderr",
          "text": [
            "WARNING:absl:Compiled the loaded model, but the compiled metrics have yet to be built. `model.compile_metrics` will be empty until you train or evaluate the model.\n"
          ]
        },
        {
          "output_type": "stream",
          "name": "stdout",
          "text": [
            "Baseline model loaded from Google Drive!\n"
          ]
        },
        {
          "output_type": "stream",
          "name": "stderr",
          "text": [
            "WARNING:absl:Compiled the loaded model, but the compiled metrics have yet to be built. `model.compile_metrics` will be empty until you train or evaluate the model.\n"
          ]
        },
        {
          "output_type": "stream",
          "name": "stdout",
          "text": [
            "MTL model loaded from Google Drive!\n"
          ]
        }
      ]
    },
    {
      "cell_type": "code",
      "source": [
        "import tensorflow as tf\n",
        "from nltk.translate.bleu_score import sentence_bleu\n",
        "from tqdm import tqdm\n",
        "import gc\n",
        "\n",
        "# Enable mixed precision to reduce memory usage\n",
        "tf.keras.mixed_precision.set_global_policy('mixed_float16')\n",
        "\n",
        "# Initialize BLEU scores list\n",
        "baseline_test_bleu_scores = []\n",
        "\n",
        "# Define chunk size and batch size\n",
        "chunk_size = 250  # Reduce chunk size to minimize GPU memory usage\n",
        "batch_size = 8    # Smaller batch size for lower memory footprint\n",
        "\n",
        "# Process test data in smaller chunks\n",
        "for i in tqdm(range(0, len(multitask_test_inputs[\"encoder_input\"]), chunk_size)):\n",
        "    # Extract current chunk\n",
        "    encoder_input_chunk = multitask_test_inputs[\"encoder_input\"][i:i+chunk_size]\n",
        "    decoder_input_chunk = multitask_test_inputs[\"decoder_dialect_to_msa_input\"][i:i+chunk_size]\n",
        "\n",
        "    # Predict using GPU\n",
        "    with tf.device('/GPU:0'):\n",
        "        baseline_test_predictions = baseline_model.predict(\n",
        "            [encoder_input_chunk, decoder_input_chunk],\n",
        "            batch_size=batch_size,\n",
        "            verbose=0\n",
        "        )\n",
        "\n",
        "    # Convert predictions and ground truth to text\n",
        "    predicted_sequences_chunk = tokenizer.sequences_to_texts(np.argmax(baseline_test_predictions, axis=-1))\n",
        "    true_sequences_chunk = tokenizer.sequences_to_texts(multitask_test_outputs[\"dialect_to_msa_output\"][i:i+chunk_size])\n",
        "\n",
        "    # Calculate BLEU scores for the current chunk\n",
        "    for true_seq, pred_seq in zip(true_sequences_chunk, predicted_sequences_chunk):\n",
        "        bleu = sentence_bleu([true_seq.split()], pred_seq.split(), weights=(0.5, 0.5))  # Adjust weights if necessary\n",
        "        baseline_test_bleu_scores.append(bleu)\n",
        "\n",
        "    # Free memory after processing each chunk\n",
        "    del encoder_input_chunk, decoder_input_chunk, baseline_test_predictions\n",
        "    gc.collect()\n",
        "\n",
        "# Calculate the final BLEU score\n",
        "baseline_test_bleu = np.mean(baseline_test_bleu_scores)\n",
        "print(f\"Baseline Test BLEU Score: {baseline_test_bleu:.4f}\")\n"
      ],
      "metadata": {
        "id": "HBCbVhMlrf8N",
        "colab": {
          "base_uri": "https://localhost:8080/"
        },
        "outputId": "a5bce27c-80fb-43b8-c10c-ebc027a9f955"
      },
      "execution_count": 21,
      "outputs": [
        {
          "output_type": "stream",
          "name": "stderr",
          "text": [
            "\r  0%|          | 0/31 [00:00<?, ?it/s]/usr/local/lib/python3.11/dist-packages/nltk/translate/bleu_score.py:577: UserWarning: \n",
            "The hypothesis contains 0 counts of 2-gram overlaps.\n",
            "Therefore the BLEU score evaluates to 0, independently of\n",
            "how many N-gram overlaps of lower order it contains.\n",
            "Consider using lower n-gram order or use SmoothingFunction()\n",
            "  warnings.warn(_msg)\n",
            "100%|██████████| 31/31 [02:05<00:00,  4.03s/it]"
          ]
        },
        {
          "output_type": "stream",
          "name": "stdout",
          "text": [
            "Baseline Test BLEU Score: 0.0394\n"
          ]
        },
        {
          "output_type": "stream",
          "name": "stderr",
          "text": [
            "\n"
          ]
        }
      ]
    },
    {
      "cell_type": "code",
      "source": [
        "# Display the results of the Baseline Test BLEU Score\n",
        "print(f\"\\nFinal Baseline Test BLEU Score: {baseline_test_bleu:.4f}\")\n",
        "\n",
        "# Optional: Visualize the BLEU score distribution across chunks\n",
        "import matplotlib.pyplot as plt\n",
        "\n",
        "plt.figure(figsize=(10, 6))\n",
        "plt.hist(baseline_test_bleu_scores, bins=20, color='skyblue', edgecolor='black')\n",
        "plt.title(\"Distribution of BLEU Scores (Baseline Model)\")\n",
        "plt.xlabel(\"BLEU Score\")\n",
        "plt.ylabel(\"Frequency\")\n",
        "plt.grid(axis='y', linestyle='--', alpha=0.7)\n",
        "plt.show()"
      ],
      "metadata": {
        "id": "mTmNwiL0rk2h",
        "colab": {
          "base_uri": "https://localhost:8080/",
          "height": 599
        },
        "outputId": "93b5c059-d676-4f1c-e864-f5bb0b4da692"
      },
      "execution_count": 23,
      "outputs": [
        {
          "output_type": "stream",
          "name": "stdout",
          "text": [
            "\n",
            "Final Baseline Test BLEU Score: 0.0394\n"
          ]
        },
        {
          "output_type": "display_data",
          "data": {
            "text/plain": [
              "<Figure size 1000x600 with 1 Axes>"
            ],
            "image/png": "[encoded data removed]"
          },
          "metadata": {}
        }
      ]
    },
    {
      "cell_type": "code",
      "source": [
        "from tqdm import tqdm\n",
        "from nltk.translate.bleu_score import sentence_bleu\n",
        "\n",
        "# Initialize BLEU scores list\n",
        "mtl_test_bleu_scores = []\n",
        "\n",
        "# Process test data in smaller chunks\n",
        "chunk_size = 250  # Keep chunk size small to avoid memory overflow\n",
        "batch_size = 8    # Small batch size for reduced GPU memory usage\n",
        "\n",
        "for i in tqdm(range(0, len(multitask_test_inputs[\"encoder_input\"]), chunk_size), desc=\"Processing MTL Test Data\"):\n",
        "    # Extract current chunk\n",
        "    encoder_input_chunk = multitask_test_inputs[\"encoder_input\"][i:i+chunk_size]\n",
        "    decoder_input_chunk = multitask_test_inputs[\"decoder_dialect_to_msa_input\"][i:i+chunk_size]\n",
        "\n",
        "    # Predict using GPU\n",
        "    with tf.device('/GPU:0'):\n",
        "        mtl_test_predictions = mtl_model.predict(\n",
        "            [encoder_input_chunk, decoder_input_chunk],\n",
        "            batch_size=batch_size,\n",
        "            verbose=0\n",
        "        )\n",
        "\n",
        "    # Convert predictions and ground truth to text\n",
        "    predicted_sequences_chunk = tokenizer.sequences_to_texts(np.argmax(mtl_test_predictions[0], axis=-1))  # Task 1: Dialect-to-MSA\n",
        "    true_sequences_chunk = tokenizer.sequences_to_texts(multitask_test_outputs[\"dialect_to_msa_output\"][i:i+chunk_size])\n",
        "\n",
        "    # Calculate BLEU scores for the current chunk\n",
        "    for true_seq, pred_seq in zip(true_sequences_chunk, predicted_sequences_chunk):\n",
        "        bleu = sentence_bleu([true_seq.split()], pred_seq.split(), weights=(0.5, 0.5))  # Adjust weights if necessary\n",
        "        mtl_test_bleu_scores.append(bleu)\n",
        "\n",
        "    # Free memory after processing each chunk\n",
        "    del encoder_input_chunk, decoder_input_chunk, mtl_test_predictions\n",
        "    gc.collect()\n",
        "\n",
        "# Calculate the final BLEU score\n",
        "mtl_test_bleu = np.mean(mtl_test_bleu_scores)\n",
        "print(f\"MTL Test BLEU Score: {mtl_test_bleu:.4f}\")\n",
        "\n",
        "# Visualization of BLEU Score Distribution\n",
        "plt.figure(figsize=(10, 6))\n",
        "plt.hist(mtl_test_bleu_scores, bins=20, color='lightgreen', edgecolor='black')\n",
        "plt.title(\"Distribution of BLEU Scores (MTL Model)\")\n",
        "plt.xlabel(\"BLEU Score\")\n",
        "plt.ylabel(\"Frequency\")\n",
        "plt.grid(axis='y', linestyle='--', alpha=0.7)\n",
        "plt.show()\n",
        "\n",
        "# Comparison of BLEU Scores\n",
        "print(f\"Baseline Test BLEU Score: {baseline_test_bleu:.4f}\")\n",
        "print(f\"MTL Test BLEU Score: {mtl_test_bleu:.4f}\")\n",
        "\n",
        "# Visualization: Compare Baseline vs. MTL BLEU Scores\n",
        "plt.figure(figsize=(8, 5))\n",
        "plt.bar([\"Baseline Model\", \"MTL Model\"], [baseline_test_bleu, mtl_test_bleu], color=['skyblue', 'lightgreen'])\n",
        "plt.title(\"BLEU Score Comparison\")\n",
        "plt.ylabel(\"BLEU Score\")\n",
        "plt.ylim(0, max(baseline_test_bleu, mtl_test_bleu) + 0.1)\n",
        "plt.show()\n"
      ],
      "metadata": {
        "colab": {
          "base_uri": "https://localhost:8080/",
          "height": 1000
        },
        "id": "ZniZHgGHlRDL",
        "outputId": "1f7e1402-9822-4470-94ea-0e2661d153ec"
      },
      "execution_count": 24,
      "outputs": [
        {
          "output_type": "stream",
          "name": "stderr",
          "text": [
            "Processing MTL Test Data: 100%|██████████| 31/31 [03:51<00:00,  7.48s/it]\n"
          ]
        },
        {
          "output_type": "stream",
          "name": "stdout",
          "text": [
            "MTL Test BLEU Score: 0.3492\n"
          ]
        },
        {
          "output_type": "display_data",
          "data": {
            "text/plain": [
              "<Figure size 1000x600 with 1 Axes>"
            ],
            "image/png": "[encoded data removed]"
          },
          "metadata": {}
        },
        {
          "output_type": "stream",
          "name": "stdout",
          "text": [
            "Baseline Test BLEU Score: 0.0394\n",
            "MTL Test BLEU Score: 0.3492\n"
          ]
        },
        {
          "output_type": "display_data",
          "data": {
            "text/plain": [
              "<Figure size 800x500 with 1 Axes>"
            ],
            "image/png": "[encoded data removed]"
          },
          "metadata": {}
        }
      ]
    },
    {
      "cell_type": "code",
      "source": [],
      "metadata": {
        "id": "nt_fjlhElSSr"
      },
      "execution_count": null,
      "outputs": []
    }
  ]
}